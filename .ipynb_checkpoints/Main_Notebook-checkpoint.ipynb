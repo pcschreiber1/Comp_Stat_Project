{
 "cells": [
  {
   "cell_type": "markdown",
   "id": "c7be0689",
   "metadata": {},
   "source": [
    "---\n",
    "# Computational Statistics project: \n",
    "### Comparing Lasso and Random Forest for variable selection\n",
    "---"
   ]
  },
  {
   "cell_type": "code",
   "execution_count": 1,
   "id": "8e212b14",
   "metadata": {},
   "outputs": [],
   "source": [
    "# Imports\n",
    "library(MASS) \n",
    "library(stats) #for fast toeplitz matrix\n",
    "\n",
    "#Import auxiliary functions\n",
    "source(\"auxiliary_functions.R\", local=FALSE)"
   ]
  },
  {
   "cell_type": "code",
   "execution_count": 2,
   "id": "1eb55e30",
   "metadata": {},
   "outputs": [],
   "source": [
    "set.seed(456)"
   ]
  },
  {
   "cell_type": "markdown",
   "id": "2ea60c7e",
   "metadata": {},
   "source": [
    "---\n",
    "## 1. Introduction\n",
    "---"
   ]
  },
  {
   "cell_type": "markdown",
   "id": "8c2968ba",
   "metadata": {},
   "source": [
    "---\n",
    "## 2 Variable Selection\n",
    "---"
   ]
  },
  {
   "cell_type": "markdown",
   "id": "15db7c51",
   "metadata": {},
   "source": [
    "### 2.1 LASSO"
   ]
  },
  {
   "cell_type": "code",
   "execution_count": null,
   "id": "4a757cb9",
   "metadata": {},
   "outputs": [],
   "source": []
  },
  {
   "cell_type": "markdown",
   "id": "0f4bd26b",
   "metadata": {},
   "source": [
    "### 2.2 RF"
   ]
  },
  {
   "cell_type": "code",
   "execution_count": null,
   "id": "0d82a7a6",
   "metadata": {},
   "outputs": [],
   "source": []
  },
  {
   "cell_type": "markdown",
   "id": "35587806",
   "metadata": {},
   "source": [
    "### 2.3 Measures"
   ]
  },
  {
   "cell_type": "code",
   "execution_count": null,
   "id": "ac96da38",
   "metadata": {},
   "outputs": [],
   "source": []
  },
  {
   "cell_type": "markdown",
   "id": "abe086c3",
   "metadata": {},
   "source": [
    "---\n",
    "## 3. Simulation Study\n",
    "---"
   ]
  },
  {
   "cell_type": "markdown",
   "id": "2bc0259d",
   "metadata": {},
   "source": [
    "### 3.1 Set-up"
   ]
  },
  {
   "cell_type": "markdown",
   "id": "1d78d8f1",
   "metadata": {},
   "source": [
    "We stipulte a sparse, linear data generation process. Importantly, due to the linearity - direct comparisons of the prediction error of the LASSO and the RF are not very useful. Instead, what is of interest to us is the relative performance for varying levels of data quality.\n",
    "\n",
    "The model emulates a frequently used DGP popularized by Belloni et al. 2011: the regression model is of the form\n",
    "\n",
    "$Y = X'\\beta_0 + \\varepsilon$"
   ]
  },
  {
   "cell_type": "markdown",
   "id": "8f23524f",
   "metadata": {},
   "source": [
    "The variables of interest are:\n",
    " - n observations to n predictors\n",
    " - number of non-zero coefficients\n",
    " - size of coefficients\n",
    " - signal to noise ratio !\n",
    " - Distribution of the error terms (?)"
   ]
  },
  {
   "cell_type": "code",
   "execution_count": 14,
   "id": "01cfbe55",
   "metadata": {},
   "outputs": [
    {
     "data": {
      "text/html": [
       "<table class=\"dataframe\">\n",
       "<caption>A data.frame: 6 × 101</caption>\n",
       "<thead>\n",
       "\t<tr><th></th><th scope=col>Y</th><th scope=col>X1</th><th scope=col>X2</th><th scope=col>X3</th><th scope=col>X4</th><th scope=col>X5</th><th scope=col>X6</th><th scope=col>X7</th><th scope=col>X8</th><th scope=col>X9</th><th scope=col>⋯</th><th scope=col>X91</th><th scope=col>X92</th><th scope=col>X93</th><th scope=col>X94</th><th scope=col>X95</th><th scope=col>X96</th><th scope=col>X97</th><th scope=col>X98</th><th scope=col>X99</th><th scope=col>X100</th></tr>\n",
       "\t<tr><th></th><th scope=col>&lt;dbl&gt;</th><th scope=col>&lt;dbl&gt;</th><th scope=col>&lt;dbl&gt;</th><th scope=col>&lt;dbl&gt;</th><th scope=col>&lt;dbl&gt;</th><th scope=col>&lt;dbl&gt;</th><th scope=col>&lt;dbl&gt;</th><th scope=col>&lt;dbl&gt;</th><th scope=col>&lt;dbl&gt;</th><th scope=col>&lt;dbl&gt;</th><th scope=col>⋯</th><th scope=col>&lt;dbl&gt;</th><th scope=col>&lt;dbl&gt;</th><th scope=col>&lt;dbl&gt;</th><th scope=col>&lt;dbl&gt;</th><th scope=col>&lt;dbl&gt;</th><th scope=col>&lt;dbl&gt;</th><th scope=col>&lt;dbl&gt;</th><th scope=col>&lt;dbl&gt;</th><th scope=col>&lt;dbl&gt;</th><th scope=col>&lt;dbl&gt;</th></tr>\n",
       "</thead>\n",
       "<tbody>\n",
       "\t<tr><th scope=row>1</th><td> 5.530628</td><td>-0.344135</td><td>-0.6380496</td><td> 0.606060129</td><td> 0.63657506</td><td> 0.1185812</td><td>-0.39434303</td><td> 0.3802143</td><td> 1.19464074</td><td>-0.2765312</td><td>⋯</td><td>-1.3312055</td><td>-0.7254136</td><td> 0.54349494</td><td>-0.06368293</td><td>-0.92288485</td><td>-2.5922313</td><td>-1.6879947</td><td> 0.4532027</td><td> 2.01016439</td><td> 0.5552657</td></tr>\n",
       "\t<tr><th scope=row>2</th><td>-0.451601</td><td> 1.492785</td><td>-0.6796357</td><td> 1.865667527</td><td> 1.47931598</td><td> 0.3470364</td><td> 0.83891585</td><td> 1.4006970</td><td>-0.57234042</td><td> 1.4233776</td><td>⋯</td><td> 0.8371550</td><td>-0.3568983</td><td>-1.74340871</td><td>-1.85350178</td><td> 0.21522481</td><td> 0.5418343</td><td> 0.4822732</td><td>-0.1749373</td><td>-1.48155320</td><td>-0.9213711</td></tr>\n",
       "\t<tr><th scope=row>3</th><td>-2.208699</td><td>-1.117289</td><td>-0.5096281</td><td>-0.668294301</td><td> 0.03946324</td><td>-0.6461996</td><td>-1.28183395</td><td>-0.4722007</td><td>-0.23218967</td><td>-0.6233698</td><td>⋯</td><td>-0.3237415</td><td>-0.8556090</td><td> 0.05098127</td><td>-0.65550633</td><td>-0.56411172</td><td> 0.8816050</td><td>-0.2099730</td><td> 1.0516676</td><td>-0.07892447</td><td>-0.5034513</td></tr>\n",
       "\t<tr><th scope=row>4</th><td>-1.844840</td><td> 1.938247</td><td>-0.1787404</td><td>-0.888708090</td><td>-1.64240243</td><td>-1.8530513</td><td>-0.18473616</td><td>-0.5643777</td><td> 0.07244488</td><td>-1.2006951</td><td>⋯</td><td> 0.3109819</td><td> 0.5719138</td><td> 0.62749465</td><td>-0.87508703</td><td> 0.01444238</td><td>-0.7412049</td><td>-1.1852581</td><td>-0.7735299</td><td>-0.42759201</td><td> 0.9580459</td></tr>\n",
       "\t<tr><th scope=row>5</th><td>-1.317762</td><td>-1.127112</td><td>-0.6855968</td><td> 0.134985990</td><td>-0.45749333</td><td> 0.8327610</td><td> 1.39545950</td><td> 0.8611115</td><td>-0.30229158</td><td>-1.6428348</td><td>⋯</td><td>-0.1984711</td><td>-1.0082494</td><td>-0.28663602</td><td>-0.67479490</td><td>-0.66333472</td><td>-0.7151379</td><td>-1.0307308</td><td>-0.8918412</td><td>-0.33695323</td><td> 0.5042278</td></tr>\n",
       "\t<tr><th scope=row>6</th><td> 1.793214</td><td> 1.860048</td><td> 0.1564983</td><td>-0.009647566</td><td> 0.60495529</td><td> 0.8585945</td><td> 0.02611789</td><td>-1.3765744</td><td>-0.19692540</td><td> 1.3244846</td><td>⋯</td><td>-2.8809812</td><td>-0.8054030</td><td> 0.65160326</td><td> 0.36274510</td><td>-0.37016565</td><td> 0.2243905</td><td>-0.2679248</td><td> 0.7569572</td><td> 0.04245183</td><td> 0.7286562</td></tr>\n",
       "</tbody>\n",
       "</table>\n"
      ],
      "text/latex": [
       "A data.frame: 6 × 101\n",
       "\\begin{tabular}{r|lllllllllllllllllllll}\n",
       "  & Y & X1 & X2 & X3 & X4 & X5 & X6 & X7 & X8 & X9 & ⋯ & X91 & X92 & X93 & X94 & X95 & X96 & X97 & X98 & X99 & X100\\\\\n",
       "  & <dbl> & <dbl> & <dbl> & <dbl> & <dbl> & <dbl> & <dbl> & <dbl> & <dbl> & <dbl> & ⋯ & <dbl> & <dbl> & <dbl> & <dbl> & <dbl> & <dbl> & <dbl> & <dbl> & <dbl> & <dbl>\\\\\n",
       "\\hline\n",
       "\t1 &  5.530628 & -0.344135 & -0.6380496 &  0.606060129 &  0.63657506 &  0.1185812 & -0.39434303 &  0.3802143 &  1.19464074 & -0.2765312 & ⋯ & -1.3312055 & -0.7254136 &  0.54349494 & -0.06368293 & -0.92288485 & -2.5922313 & -1.6879947 &  0.4532027 &  2.01016439 &  0.5552657\\\\\n",
       "\t2 & -0.451601 &  1.492785 & -0.6796357 &  1.865667527 &  1.47931598 &  0.3470364 &  0.83891585 &  1.4006970 & -0.57234042 &  1.4233776 & ⋯ &  0.8371550 & -0.3568983 & -1.74340871 & -1.85350178 &  0.21522481 &  0.5418343 &  0.4822732 & -0.1749373 & -1.48155320 & -0.9213711\\\\\n",
       "\t3 & -2.208699 & -1.117289 & -0.5096281 & -0.668294301 &  0.03946324 & -0.6461996 & -1.28183395 & -0.4722007 & -0.23218967 & -0.6233698 & ⋯ & -0.3237415 & -0.8556090 &  0.05098127 & -0.65550633 & -0.56411172 &  0.8816050 & -0.2099730 &  1.0516676 & -0.07892447 & -0.5034513\\\\\n",
       "\t4 & -1.844840 &  1.938247 & -0.1787404 & -0.888708090 & -1.64240243 & -1.8530513 & -0.18473616 & -0.5643777 &  0.07244488 & -1.2006951 & ⋯ &  0.3109819 &  0.5719138 &  0.62749465 & -0.87508703 &  0.01444238 & -0.7412049 & -1.1852581 & -0.7735299 & -0.42759201 &  0.9580459\\\\\n",
       "\t5 & -1.317762 & -1.127112 & -0.6855968 &  0.134985990 & -0.45749333 &  0.8327610 &  1.39545950 &  0.8611115 & -0.30229158 & -1.6428348 & ⋯ & -0.1984711 & -1.0082494 & -0.28663602 & -0.67479490 & -0.66333472 & -0.7151379 & -1.0307308 & -0.8918412 & -0.33695323 &  0.5042278\\\\\n",
       "\t6 &  1.793214 &  1.860048 &  0.1564983 & -0.009647566 &  0.60495529 &  0.8585945 &  0.02611789 & -1.3765744 & -0.19692540 &  1.3244846 & ⋯ & -2.8809812 & -0.8054030 &  0.65160326 &  0.36274510 & -0.37016565 &  0.2243905 & -0.2679248 &  0.7569572 &  0.04245183 &  0.7286562\\\\\n",
       "\\end{tabular}\n"
      ],
      "text/markdown": [
       "\n",
       "A data.frame: 6 × 101\n",
       "\n",
       "| <!--/--> | Y &lt;dbl&gt; | X1 &lt;dbl&gt; | X2 &lt;dbl&gt; | X3 &lt;dbl&gt; | X4 &lt;dbl&gt; | X5 &lt;dbl&gt; | X6 &lt;dbl&gt; | X7 &lt;dbl&gt; | X8 &lt;dbl&gt; | X9 &lt;dbl&gt; | ⋯ ⋯ | X91 &lt;dbl&gt; | X92 &lt;dbl&gt; | X93 &lt;dbl&gt; | X94 &lt;dbl&gt; | X95 &lt;dbl&gt; | X96 &lt;dbl&gt; | X97 &lt;dbl&gt; | X98 &lt;dbl&gt; | X99 &lt;dbl&gt; | X100 &lt;dbl&gt; |\n",
       "|---|---|---|---|---|---|---|---|---|---|---|---|---|---|---|---|---|---|---|---|---|---|\n",
       "| 1 |  5.530628 | -0.344135 | -0.6380496 |  0.606060129 |  0.63657506 |  0.1185812 | -0.39434303 |  0.3802143 |  1.19464074 | -0.2765312 | ⋯ | -1.3312055 | -0.7254136 |  0.54349494 | -0.06368293 | -0.92288485 | -2.5922313 | -1.6879947 |  0.4532027 |  2.01016439 |  0.5552657 |\n",
       "| 2 | -0.451601 |  1.492785 | -0.6796357 |  1.865667527 |  1.47931598 |  0.3470364 |  0.83891585 |  1.4006970 | -0.57234042 |  1.4233776 | ⋯ |  0.8371550 | -0.3568983 | -1.74340871 | -1.85350178 |  0.21522481 |  0.5418343 |  0.4822732 | -0.1749373 | -1.48155320 | -0.9213711 |\n",
       "| 3 | -2.208699 | -1.117289 | -0.5096281 | -0.668294301 |  0.03946324 | -0.6461996 | -1.28183395 | -0.4722007 | -0.23218967 | -0.6233698 | ⋯ | -0.3237415 | -0.8556090 |  0.05098127 | -0.65550633 | -0.56411172 |  0.8816050 | -0.2099730 |  1.0516676 | -0.07892447 | -0.5034513 |\n",
       "| 4 | -1.844840 |  1.938247 | -0.1787404 | -0.888708090 | -1.64240243 | -1.8530513 | -0.18473616 | -0.5643777 |  0.07244488 | -1.2006951 | ⋯ |  0.3109819 |  0.5719138 |  0.62749465 | -0.87508703 |  0.01444238 | -0.7412049 | -1.1852581 | -0.7735299 | -0.42759201 |  0.9580459 |\n",
       "| 5 | -1.317762 | -1.127112 | -0.6855968 |  0.134985990 | -0.45749333 |  0.8327610 |  1.39545950 |  0.8611115 | -0.30229158 | -1.6428348 | ⋯ | -0.1984711 | -1.0082494 | -0.28663602 | -0.67479490 | -0.66333472 | -0.7151379 | -1.0307308 | -0.8918412 | -0.33695323 |  0.5042278 |\n",
       "| 6 |  1.793214 |  1.860048 |  0.1564983 | -0.009647566 |  0.60495529 |  0.8585945 |  0.02611789 | -1.3765744 | -0.19692540 |  1.3244846 | ⋯ | -2.8809812 | -0.8054030 |  0.65160326 |  0.36274510 | -0.37016565 |  0.2243905 | -0.2679248 |  0.7569572 |  0.04245183 |  0.7286562 |\n",
       "\n"
      ],
      "text/plain": [
       "  Y         X1        X2         X3           X4          X5        \n",
       "1  5.530628 -0.344135 -0.6380496  0.606060129  0.63657506  0.1185812\n",
       "2 -0.451601  1.492785 -0.6796357  1.865667527  1.47931598  0.3470364\n",
       "3 -2.208699 -1.117289 -0.5096281 -0.668294301  0.03946324 -0.6461996\n",
       "4 -1.844840  1.938247 -0.1787404 -0.888708090 -1.64240243 -1.8530513\n",
       "5 -1.317762 -1.127112 -0.6855968  0.134985990 -0.45749333  0.8327610\n",
       "6  1.793214  1.860048  0.1564983 -0.009647566  0.60495529  0.8585945\n",
       "  X6          X7         X8          X9         <U+22EF>        X91        X92       \n",
       "1 -0.39434303  0.3802143  1.19464074 -0.2765312 <U+22EF> -1.3312055 -0.7254136\n",
       "2  0.83891585  1.4006970 -0.57234042  1.4233776 <U+22EF>  0.8371550 -0.3568983\n",
       "3 -1.28183395 -0.4722007 -0.23218967 -0.6233698 <U+22EF> -0.3237415 -0.8556090\n",
       "4 -0.18473616 -0.5643777  0.07244488 -1.2006951 <U+22EF>  0.3109819  0.5719138\n",
       "5  1.39545950  0.8611115 -0.30229158 -1.6428348 <U+22EF> -0.1984711 -1.0082494\n",
       "6  0.02611789 -1.3765744 -0.19692540  1.3244846 <U+22EF> -2.8809812 -0.8054030\n",
       "  X93         X94         X95         X96        X97        X98       \n",
       "1  0.54349494 -0.06368293 -0.92288485 -2.5922313 -1.6879947  0.4532027\n",
       "2 -1.74340871 -1.85350178  0.21522481  0.5418343  0.4822732 -0.1749373\n",
       "3  0.05098127 -0.65550633 -0.56411172  0.8816050 -0.2099730  1.0516676\n",
       "4  0.62749465 -0.87508703  0.01444238 -0.7412049 -1.1852581 -0.7735299\n",
       "5 -0.28663602 -0.67479490 -0.66333472 -0.7151379 -1.0307308 -0.8918412\n",
       "6  0.65160326  0.36274510 -0.37016565  0.2243905 -0.2679248  0.7569572\n",
       "  X99         X100      \n",
       "1  2.01016439  0.5552657\n",
       "2 -1.48155320 -0.9213711\n",
       "3 -0.07892447 -0.5034513\n",
       "4 -0.42759201  0.9580459\n",
       "5 -0.33695323  0.5042278\n",
       "6  0.04245183  0.7286562"
      ]
     },
     "metadata": {},
     "output_type": "display_data"
    }
   ],
   "source": [
    "beta = beta_1(100,5)\n",
    "df <- simulate(n=100, p=100, rho=0.5, beta=beta, var_error = 1)\n",
    "head(df)"
   ]
  },
  {
   "cell_type": "markdown",
   "id": "b60f1397",
   "metadata": {},
   "source": [
    "**Orient correlation coefficient $\\rho$ and sample size on application data**"
   ]
  },
  {
   "cell_type": "markdown",
   "id": "99534a7f",
   "metadata": {},
   "source": [
    "What is my signal to Noise ratio here? $SNR = \\frac{var(x'\\beta^0)}{\\sigma^2}$"
   ]
  },
  {
   "cell_type": "code",
   "execution_count": 22,
   "id": "eec8517e",
   "metadata": {},
   "outputs": [
    {
     "data": {
      "text/html": [
       "<table class=\"dataframe\">\n",
       "<caption>A matrix: 1 × 1 of type dbl</caption>\n",
       "<tbody>\n",
       "\t<tr><td>NaN</td></tr>\n",
       "</tbody>\n",
       "</table>\n"
      ],
      "text/latex": [
       "A matrix: 1 × 1 of type dbl\n",
       "\\begin{tabular}{l}\n",
       "\t NaN\\\\\n",
       "\\end{tabular}\n"
      ],
      "text/markdown": [
       "\n",
       "A matrix: 1 × 1 of type dbl\n",
       "\n",
       "| NaN |\n",
       "\n"
      ],
      "text/plain": [
       "     [,1]\n",
       "[1,] NaN "
      ]
     },
     "metadata": {},
     "output_type": "display_data"
    }
   ],
   "source": [
    "matrix(NaN, ncol=1)"
   ]
  },
  {
   "cell_type": "code",
   "execution_count": 30,
   "id": "582a6ae8",
   "metadata": {},
   "outputs": [
    {
     "data": {
      "text/html": [
       "5.05910190884741"
      ],
      "text/latex": [
       "5.05910190884741"
      ],
      "text/markdown": [
       "5.05910190884741"
      ],
      "text/plain": [
       "[1] 5.059102"
      ]
     },
     "metadata": {},
     "output_type": "display_data"
    }
   ],
   "source": [
    "container = matrix(NaN, ncol=1)\n",
    "for ( i in 1:300){\n",
    "  df <- simulate(n=100, p=100, rho=0.5, beta=beta, var_error = 1)\n",
    "    X = df[,-1]\n",
    "    a = data.matrix(X) %*% beta\n",
    "    container[i] = var(a)\n",
    "}\n",
    "mean(container)"
   ]
  },
  {
   "cell_type": "code",
   "execution_count": 31,
   "id": "061f64d5",
   "metadata": {},
   "outputs": [
    {
     "data": {
      "text/html": [
       "<style>\n",
       ".list-inline {list-style: none; margin:0; padding: 0}\n",
       ".list-inline>li {display: inline-block}\n",
       ".list-inline>li:not(:last-child)::after {content: \"\\00b7\"; padding: 0 .5ex}\n",
       "</style>\n",
       "<ol class=list-inline><li>0.05</li><li>0.0851118720078079</li><li>0.14488061513347</li><li>0.246621207433047</li><li>0.419807852829051</li><li>0.714612644757177</li><li>1.21644039911468</li><li>2.07067039109151</li><li>3.52477266593876</li><li>6</li></ol>\n"
      ],
      "text/latex": [
       "\\begin{enumerate*}\n",
       "\\item 0.05\n",
       "\\item 0.0851118720078079\n",
       "\\item 0.14488061513347\n",
       "\\item 0.246621207433047\n",
       "\\item 0.419807852829051\n",
       "\\item 0.714612644757177\n",
       "\\item 1.21644039911468\n",
       "\\item 2.07067039109151\n",
       "\\item 3.52477266593876\n",
       "\\item 6\n",
       "\\end{enumerate*}\n"
      ],
      "text/markdown": [
       "1. 0.05\n",
       "2. 0.0851118720078079\n",
       "3. 0.14488061513347\n",
       "4. 0.246621207433047\n",
       "5. 0.419807852829051\n",
       "6. 0.714612644757177\n",
       "7. 1.21644039911468\n",
       "8. 2.07067039109151\n",
       "9. 3.52477266593876\n",
       "10. 6\n",
       "\n",
       "\n"
      ],
      "text/plain": [
       " [1] 0.05000000 0.08511187 0.14488062 0.24662121 0.41980785 0.71461264\n",
       " [7] 1.21644040 2.07067039 3.52477267 6.00000000"
      ]
     },
     "metadata": {},
     "output_type": "display_data"
    }
   ],
   "source": [
    "snr.vec = exp(seq(log(0.05),log(6),length=10)) # Signal-to-noise ratios\n",
    "snr.vec"
   ]
  },
  {
   "cell_type": "code",
   "execution_count": 36,
   "id": "711db769",
   "metadata": {},
   "outputs": [
    {
     "data": {
      "text/html": [
       "2.23606797749979"
      ],
      "text/latex": [
       "2.23606797749979"
      ],
      "text/markdown": [
       "2.23606797749979"
      ],
      "text/plain": [
       "[1] 2.236068"
      ]
     },
     "metadata": {},
     "output_type": "display_data"
    }
   ],
   "source": [
    "snr = 1\n",
    "p=10\n",
    "s = 5\n",
    "Sigma = diag(1,p)\n",
    "beta = rep(0,p)\n",
    "beta[round(seq(1,p,length=s))] = 1\n",
    "vmu = as.numeric(t(beta) %*% Sigma %*% beta)\n",
    "sigma = sqrt(vmu/snr)\n",
    "sigma"
   ]
  },
  {
   "cell_type": "code",
   "execution_count": null,
   "id": "ed03fc77",
   "metadata": {},
   "outputs": [],
   "source": []
  },
  {
   "cell_type": "code",
   "execution_count": null,
   "id": "fe27922c",
   "metadata": {},
   "outputs": [],
   "source": []
  },
  {
   "cell_type": "code",
   "execution_count": null,
   "id": "df7f2133",
   "metadata": {},
   "outputs": [],
   "source": []
  },
  {
   "cell_type": "code",
   "execution_count": null,
   "id": "968b1622",
   "metadata": {},
   "outputs": [],
   "source": []
  },
  {
   "cell_type": "code",
   "execution_count": 66,
   "id": "afc5abd7",
   "metadata": {},
   "outputs": [],
   "source": [
    "sim.xy = function(n, p, nval, rho=0, s=5, beta.type=1, snr=1) {\n",
    "  # Generate predictors\n",
    "  x = matrix(rnorm(n*p),n,p)\n",
    "  xval = matrix(rnorm(nval*p),nval,p)\n",
    "\n",
    "  # Introduce autocorrelation, if needed\n",
    "  if (rho != 0) {\n",
    "    inds = 1:p\n",
    "    Sigma = rho^abs(outer(inds, inds, \"-\"))\n",
    "    obj = svd(Sigma)\n",
    "    Sigma.half = obj$u %*% (sqrt(diag(obj$d))) %*% t(obj$v)\n",
    "    x = x %*% Sigma.half\n",
    "    xval = xval %*% Sigma.half\n",
    "  }\n",
    "  else Sigma = diag(1,p)\n",
    "\n",
    "  # Generate underlying coefficients\n",
    "  s = min(s,p)\n",
    "  beta = rep(0,p)\n",
    "  if (beta.type==1) {\n",
    "    beta[round(seq(1,p,length=s))] = 1\n",
    "  } else if (beta.type==2) {\n",
    "    beta[1:s] = 1\n",
    "  } else if (beta.type==3) {\n",
    "    beta[1:s] = seq(10,0.5,length=s)\n",
    "  } else if (beta.type==4) {\n",
    "    beta[1:6] = c(-10,-6,-2,2,6,10)\n",
    "  } else {\n",
    "    beta[1:s] = 1\n",
    "    beta[(s+1):p] = 0.5^(1:(p-s))\n",
    "  }\n",
    "\n",
    "  # Set snr based on sample variance on infinitely large test set\n",
    "  vmu = as.numeric(t(beta) %*% Sigma %*% beta)\n",
    "  sigma = sqrt(vmu/snr)\n",
    "\n",
    "  # Generate responses\n",
    "  y = as.numeric(x %*% beta + rnorm(n)*sigma)\n",
    "  yval = as.numeric(xval %*% beta + rnorm(nval)*sigma)\n",
    "\n",
    "  list_1 = list(\"x\" = x,\"y\"= y,\"xval\"= xval,\"yval\"= yval,\"Sigma\"=Sigma,\"beta\"=beta,\"sigma\"=sigma)\n",
    "  return(list_1)\n",
    "}"
   ]
  },
  {
   "cell_type": "code",
   "execution_count": 87,
   "id": "8966074b",
   "metadata": {},
   "outputs": [
    {
     "data": {
      "text/html": [
       "1.99835510507239"
      ],
      "text/latex": [
       "1.99835510507239"
      ],
      "text/markdown": [
       "1.99835510507239"
      ],
      "text/plain": [
       "[1] 1.998355"
      ]
     },
     "metadata": {},
     "output_type": "display_data"
    }
   ],
   "source": [
    "container = matrix(NaN, ncol=1)\n",
    "for ( i in 1:10000){\n",
    "    xy.obj = sim.xy(n=100, p=10, nval=2, snr=2)\n",
    "\n",
    "    a = xy.obj$x %*%beta\n",
    "    b =var(a)/(xy.obj$sigma**2)\n",
    "    container[i] = b\n",
    "}\n",
    "mean(container)\n",
    "\n"
   ]
  },
  {
   "cell_type": "code",
   "execution_count": 94,
   "id": "4d8d5b29",
   "metadata": {},
   "outputs": [],
   "source": [
    "xy.obj = sim.xy(n=100, p=10, rho=0.8, nval=2, snr=2)"
   ]
  },
  {
   "cell_type": "code",
   "execution_count": 95,
   "id": "bbb92da4",
   "metadata": {},
   "outputs": [
    {
     "data": {
      "text/html": [
       "2.55941558329241"
      ],
      "text/latex": [
       "2.55941558329241"
      ],
      "text/markdown": [
       "2.55941558329241"
      ],
      "text/plain": [
       "[1] 2.559416"
      ]
     },
     "metadata": {},
     "output_type": "display_data"
    }
   ],
   "source": [
    "xy.obj$sigma"
   ]
  },
  {
   "cell_type": "code",
   "execution_count": null,
   "id": "07fedd88",
   "metadata": {},
   "outputs": [],
   "source": [
    "https://github.com/ryantibs/best-subset/blob/master/bestsubset/R/sim.R"
   ]
  },
  {
   "cell_type": "markdown",
   "id": "ddc22e1c",
   "metadata": {},
   "source": [
    "### 3.2 Case 1 - Baseline"
   ]
  },
  {
   "cell_type": "markdown",
   "id": "afc34653",
   "metadata": {},
   "source": [
    "Looking at the case without special collinearity between the significant coefficients."
   ]
  },
  {
   "cell_type": "code",
   "execution_count": null,
   "id": "c1c116e5",
   "metadata": {},
   "outputs": [],
   "source": []
  },
  {
   "cell_type": "markdown",
   "id": "13b9a418",
   "metadata": {},
   "source": [
    "---\n",
    "## 3. Application\n",
    "---"
   ]
  },
  {
   "cell_type": "markdown",
   "id": "de40aaa2",
   "metadata": {},
   "source": [
    "---\n",
    "# Reference Section\n",
    "---\n",
    "* Belloni et al 2011"
   ]
  }
 ],
 "metadata": {
  "interpreter": {
   "hash": "b1be2b7f3f1894d6d8c8af9ec3a4f1d7c1309b90ba0dd6b5bed9a14371c4a4ae"
  },
  "kernelspec": {
   "display_name": "R",
   "language": "R",
   "name": "ir"
  },
  "language_info": {
   "codemirror_mode": "r",
   "file_extension": ".r",
   "mimetype": "text/x-r-source",
   "name": "R",
   "pygments_lexer": "r",
   "version": "4.1.0"
  }
 },
 "nbformat": 4,
 "nbformat_minor": 5
}
