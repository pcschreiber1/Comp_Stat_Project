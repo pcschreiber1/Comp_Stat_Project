{
 "cells": [
  {
   "cell_type": "markdown",
   "id": "c7be0689",
   "metadata": {},
   "source": [
    "---\n",
    "# Computational Statistics project: \n",
    "### Comparing Lasso and Random Forest for variable selection\n",
    "---"
   ]
  },
  {
   "cell_type": "code",
   "execution_count": 198,
   "id": "bfb544f9",
   "metadata": {},
   "outputs": [
    {
     "name": "stdout",
     "output_type": "stream",
     "text": [
      "package 'Rcpp' successfully unpacked and MD5 sums checked\n"
     ]
    },
    {
     "name": "stderr",
     "output_type": "stream",
     "text": [
      "Warning message:\n",
      "\"cannot remove prior installation of package 'Rcpp'\"\n",
      "Warning message in file.copy(savedcopy, lib, recursive = TRUE):\n",
      "\"Problem C:\\Projects\\anaconda3\\envs\\r_env\\Lib\\R\\library\\00LOCK\\Rcpp\\libs\\x64\\Rcpp.dll nach C:\\Projects\\anaconda3\\envs\\r_env\\Lib\\R\\library\\Rcpp\\libs\\x64\\Rcpp.dll zu kopieren: Permission denied\"\n",
      "Warning message:\n",
      "\"restored 'Rcpp'\"\n"
     ]
    },
    {
     "name": "stdout",
     "output_type": "stream",
     "text": [
      "\n",
      "The downloaded binary packages are in\n",
      "\tC:\\Users\\Philipp Schreiber\\AppData\\Local\\Temp\\Rtmp0GzWUZ\\downloaded_packages\n"
     ]
    }
   ],
   "source": [
    "install.packages('Rcpp')\n",
    "library(Rcpp)"
   ]
  },
  {
   "cell_type": "code",
   "execution_count": 199,
   "id": "8874bca7",
   "metadata": {},
   "outputs": [
    {
     "name": "stdout",
     "output_type": "stream",
     "text": [
      "package 'VSURF' successfully unpacked and MD5 sums checked\n",
      "\n",
      "The downloaded binary packages are in\n",
      "\tC:\\Users\\Philipp Schreiber\\AppData\\Local\\Temp\\Rtmp0GzWUZ\\downloaded_packages\n"
     ]
    }
   ],
   "source": [
    "install.packages(\"VSURF\")"
   ]
  },
  {
   "cell_type": "code",
   "execution_count": 200,
   "id": "c3fc88e4",
   "metadata": {},
   "outputs": [],
   "source": [
    "library(VSURF)"
   ]
  },
  {
   "cell_type": "code",
   "execution_count": 194,
   "id": "8e212b14",
   "metadata": {},
   "outputs": [
    {
     "name": "stderr",
     "output_type": "stream",
     "text": [
      "installiere auch Abhängigkeiten 'RcppEigen', 'doParallel', 'Rborist', 'ranger'\n",
      "\n",
      "\n"
     ]
    },
    {
     "name": "stdout",
     "output_type": "stream",
     "text": [
      "package 'RcppEigen' successfully unpacked and MD5 sums checked\n",
      "package 'doParallel' successfully unpacked and MD5 sums checked\n",
      "package 'Rborist' successfully unpacked and MD5 sums checked\n",
      "package 'ranger' successfully unpacked and MD5 sums checked\n",
      "package 'VSURF' successfully unpacked and MD5 sums checked\n",
      "\n",
      "The downloaded binary packages are in\n",
      "\tC:\\Users\\Philipp Schreiber\\AppData\\Local\\Temp\\Rtmp0GzWUZ\\downloaded_packages\n"
     ]
    },
    {
     "ename": "ERROR",
     "evalue": "Error: Laden von Paket oder Namensraum für 'VSURF' in inDL(x, as.logical(local), as.logical(now), ...): fehlgeschlagen\n Die Funktion 'Rcpp_precious_remove' wird nicht von Paket 'Rcpp' bereitgestellt\n",
     "output_type": "error",
     "traceback": [
      "Error: Laden von Paket oder Namensraum für 'VSURF' in inDL(x, as.logical(local), as.logical(now), ...): fehlgeschlagen\n Die Funktion 'Rcpp_precious_remove' wird nicht von Paket 'Rcpp' bereitgestellt\nTraceback:\n",
      "1. library(VSURF)",
      "2. tryCatch({\n .     attr(package, \"LibPath\") <- which.lib.loc\n .     ns <- loadNamespace(package, lib.loc)\n .     env <- attachNamespace(ns, pos = pos, deps, exclude, include.only)\n . }, error = function(e) {\n .     P <- if (!is.null(cc <- conditionCall(e))) \n .         paste(\" in\", deparse(cc)[1L])\n .     else \"\"\n .     msg <- gettextf(\"package or namespace load failed for %s%s:\\n %s\", \n .         sQuote(package), P, conditionMessage(e))\n .     if (logical.return) \n .         message(paste(\"Error:\", msg), domain = NA)\n .     else stop(msg, call. = FALSE, domain = NA)\n . })",
      "3. tryCatchList(expr, classes, parentenv, handlers)",
      "4. tryCatchOne(expr, names, parentenv, handlers[[1L]])",
      "5. value[[3L]](cond)",
      "6. stop(msg, call. = FALSE, domain = NA)"
     ]
    }
   ],
   "source": [
    "# Imports\n",
    "library(MASS) \n",
    "library(stats) #for fast toeplitz matrix\n",
    "library(glmnet) #for LASSO\n",
    "install.packages(\"VSURF\")\n",
    "library(VSURF)"
   ]
  },
  {
   "cell_type": "code",
   "execution_count": 237,
   "id": "0b2cd505",
   "metadata": {},
   "outputs": [],
   "source": [
    "#Import auxiliary functions\n",
    "source(\"auxiliary_functions.R\", local=FALSE)"
   ]
  },
  {
   "cell_type": "code",
   "execution_count": 2,
   "id": "1eb55e30",
   "metadata": {},
   "outputs": [],
   "source": [
    "set.seed(456)"
   ]
  },
  {
   "cell_type": "markdown",
   "id": "2ea60c7e",
   "metadata": {},
   "source": [
    "---\n",
    "## 1. Introduction\n",
    "---"
   ]
  },
  {
   "cell_type": "markdown",
   "id": "8c2968ba",
   "metadata": {},
   "source": [
    "---\n",
    "## 2 Variable Selection\n",
    "---"
   ]
  },
  {
   "cell_type": "markdown",
   "id": "15db7c51",
   "metadata": {},
   "source": [
    "### 2.1 LASSO"
   ]
  },
  {
   "cell_type": "code",
   "execution_count": 151,
   "id": "4a757cb9",
   "metadata": {},
   "outputs": [
    {
     "data": {
      "image/png": "[encoded data removed]",
      "text/plain": [
       "plot without title"
      ]
     },
     "metadata": {
      "image/png": {
       "height": 420,
       "width": 420
      }
     },
     "output_type": "display_data"
    }
   ],
   "source": [
    "beta = beta_1(p=100,s=5)\n",
    "df <- simulate(n=100, p=100, rho=0.5, beta=beta, SNR = 1)$df\n",
    "x <- data.matrix(df[,-1]) #explan var, glmnet can't use dataframe\n",
    "y <- data.matrix(df[,1]) #dependent var, glmnet can't use dataframe\n",
    "\n",
    "cv.out = cv.glmnet(x, y, alpha = 1, intercept=FALSE) # Fit lasso model on training data\n",
    "plot(cv.out) # Draw plot of training MSE as a function of lambda\n",
    "lam = cv.out$lambda.1se # Select more conservative lambda for variable selection\n",
    "\n",
    "\n",
    "lasso_coef = predict(cv.out, type = \"coefficients\", s = lam) # Display coefficients using lambda chosen by CV"
   ]
  },
  {
   "cell_type": "markdown",
   "id": "0f4bd26b",
   "metadata": {},
   "source": [
    "### 2.2 RF"
   ]
  },
  {
   "cell_type": "code",
   "execution_count": 246,
   "id": "0d82a7a6",
   "metadata": {},
   "outputs": [],
   "source": [
    "beta = beta_1(p=20,s=5)\n",
    "df <- simulate(n=100, p=20, rho=0.5, beta=beta, SNR = 1)$df\n",
    "x <- data.matrix(df[,-1]) #explan var, glmnet can't use dataframe\n",
    "y <- data.matrix(df[,1]) #dependent var, glmnet can't use dataframe"
   ]
  },
  {
   "cell_type": "code",
   "execution_count": 247,
   "id": "8baee031",
   "metadata": {},
   "outputs": [
    {
     "name": "stdout",
     "output_type": "stream",
     "text": [
      "Thresholding step\n",
      "Estimated computational time (on one core): 79 sec.\n",
      "  |======================================================================| 100%\n",
      "Interpretation step (on 13 variables)\n",
      "Estimated computational time (on one core): between 22.7 sec. and  29.2 sec.\n",
      "  |======================================================================| 100%\n",
      "Prediction step (on 7 variables)\n",
      "Maximum estimated computational time (on one core): 14 sec.\n",
      "  |======================================================================| 100%"
     ]
    }
   ],
   "source": [
    "defaultW <- getOption(\"warn\") \n",
    "\n",
    "options(warn = -1) \n",
    "\n",
    "practice.vsurf <- VSURF(x=x, y=y, mtry=50)#, parallel=TRUE, ncores=2)\n",
    "\n",
    "options(warn = defaultW)"
   ]
  },
  {
   "cell_type": "code",
   "execution_count": 243,
   "id": "74809721",
   "metadata": {},
   "outputs": [
    {
     "data": {
      "text/html": [
       "<style>\n",
       ".list-inline {list-style: none; margin:0; padding: 0}\n",
       ".list-inline>li {display: inline-block}\n",
       ".list-inline>li:not(:last-child)::after {content: \"\\00b7\"; padding: 0 .5ex}\n",
       "</style>\n",
       "<ol class=list-inline><li>'varselect.thres'</li><li>'varselect.interp'</li><li>'varselect.pred'</li><li>'nums.varselect'</li><li>'imp.varselect.thres'</li><li>'min.thres'</li><li>'imp.mean.dec'</li><li>'imp.mean.dec.ind'</li><li>'imp.sd.dec'</li><li>'mean.perf'</li><li>'pred.pruned.tree'</li><li>'err.interp'</li><li>'sd.min'</li><li>'err.pred'</li><li>'mean.jump'</li><li>'nmin'</li><li>'nsd'</li><li>'nmj'</li><li>'overall.time'</li><li>'comput.times'</li><li>'RFimplem'</li><li>'ncores'</li><li>'clusterType'</li><li>'call'</li></ol>\n"
      ],
      "text/latex": [
       "\\begin{enumerate*}\n",
       "\\item 'varselect.thres'\n",
       "\\item 'varselect.interp'\n",
       "\\item 'varselect.pred'\n",
       "\\item 'nums.varselect'\n",
       "\\item 'imp.varselect.thres'\n",
       "\\item 'min.thres'\n",
       "\\item 'imp.mean.dec'\n",
       "\\item 'imp.mean.dec.ind'\n",
       "\\item 'imp.sd.dec'\n",
       "\\item 'mean.perf'\n",
       "\\item 'pred.pruned.tree'\n",
       "\\item 'err.interp'\n",
       "\\item 'sd.min'\n",
       "\\item 'err.pred'\n",
       "\\item 'mean.jump'\n",
       "\\item 'nmin'\n",
       "\\item 'nsd'\n",
       "\\item 'nmj'\n",
       "\\item 'overall.time'\n",
       "\\item 'comput.times'\n",
       "\\item 'RFimplem'\n",
       "\\item 'ncores'\n",
       "\\item 'clusterType'\n",
       "\\item 'call'\n",
       "\\end{enumerate*}\n"
      ],
      "text/markdown": [
       "1. 'varselect.thres'\n",
       "2. 'varselect.interp'\n",
       "3. 'varselect.pred'\n",
       "4. 'nums.varselect'\n",
       "5. 'imp.varselect.thres'\n",
       "6. 'min.thres'\n",
       "7. 'imp.mean.dec'\n",
       "8. 'imp.mean.dec.ind'\n",
       "9. 'imp.sd.dec'\n",
       "10. 'mean.perf'\n",
       "11. 'pred.pruned.tree'\n",
       "12. 'err.interp'\n",
       "13. 'sd.min'\n",
       "14. 'err.pred'\n",
       "15. 'mean.jump'\n",
       "16. 'nmin'\n",
       "17. 'nsd'\n",
       "18. 'nmj'\n",
       "19. 'overall.time'\n",
       "20. 'comput.times'\n",
       "21. 'RFimplem'\n",
       "22. 'ncores'\n",
       "23. 'clusterType'\n",
       "24. 'call'\n",
       "\n",
       "\n"
      ],
      "text/plain": [
       " [1] \"varselect.thres\"     \"varselect.interp\"    \"varselect.pred\"     \n",
       " [4] \"nums.varselect\"      \"imp.varselect.thres\" \"min.thres\"          \n",
       " [7] \"imp.mean.dec\"        \"imp.mean.dec.ind\"    \"imp.sd.dec\"         \n",
       "[10] \"mean.perf\"           \"pred.pruned.tree\"    \"err.interp\"         \n",
       "[13] \"sd.min\"              \"err.pred\"            \"mean.jump\"          \n",
       "[16] \"nmin\"                \"nsd\"                 \"nmj\"                \n",
       "[19] \"overall.time\"        \"comput.times\"        \"RFimplem\"           \n",
       "[22] \"ncores\"              \"clusterType\"         \"call\"               "
      ]
     },
     "metadata": {},
     "output_type": "display_data"
    }
   ],
   "source": [
    "names(practice.vsurf)"
   ]
  },
  {
   "cell_type": "code",
   "execution_count": 248,
   "id": "248d927e",
   "metadata": {},
   "outputs": [
    {
     "data": {
      "text/html": [
       "<style>\n",
       ".list-inline {list-style: none; margin:0; padding: 0}\n",
       ".list-inline>li {display: inline-block}\n",
       ".list-inline>li:not(:last-child)::after {content: \"\\00b7\"; padding: 0 .5ex}\n",
       "</style>\n",
       "<ol class=list-inline><li>6</li><li>15</li><li>10</li><li>20</li><li>18</li><li>1</li></ol>\n"
      ],
      "text/latex": [
       "\\begin{enumerate*}\n",
       "\\item 6\n",
       "\\item 15\n",
       "\\item 10\n",
       "\\item 20\n",
       "\\item 18\n",
       "\\item 1\n",
       "\\end{enumerate*}\n"
      ],
      "text/markdown": [
       "1. 6\n",
       "2. 15\n",
       "3. 10\n",
       "4. 20\n",
       "5. 18\n",
       "6. 1\n",
       "\n",
       "\n"
      ],
      "text/plain": [
       "[1]  6 15 10 20 18  1"
      ]
     },
     "metadata": {},
     "output_type": "display_data"
    }
   ],
   "source": [
    "practice.vsurf$varselect.pred"
   ]
  },
  {
   "cell_type": "code",
   "execution_count": 249,
   "id": "b9016472",
   "metadata": {},
   "outputs": [
    {
     "data": {
      "text/html": [
       "<style>\n",
       ".list-inline {list-style: none; margin:0; padding: 0}\n",
       ".list-inline>li {display: inline-block}\n",
       ".list-inline>li:not(:last-child)::after {content: \"\\00b7\"; padding: 0 .5ex}\n",
       "</style>\n",
       "<ol class=list-inline><li>1</li><li>1</li><li>1</li><li>1</li><li>0</li><li>1</li></ol>\n"
      ],
      "text/latex": [
       "\\begin{enumerate*}\n",
       "\\item 1\n",
       "\\item 1\n",
       "\\item 1\n",
       "\\item 1\n",
       "\\item 0\n",
       "\\item 1\n",
       "\\end{enumerate*}\n"
      ],
      "text/markdown": [
       "1. 1\n",
       "2. 1\n",
       "3. 1\n",
       "4. 1\n",
       "5. 0\n",
       "6. 1\n",
       "\n",
       "\n"
      ],
      "text/plain": [
       "[1] 1 1 1 1 0 1"
      ]
     },
     "metadata": {},
     "output_type": "display_data"
    }
   ],
   "source": [
    "beta = beta_1(p=20,s=5)\n",
    "beta[practice.vsurf$varselect.pred]"
   ]
  },
  {
   "cell_type": "markdown",
   "id": "35587806",
   "metadata": {},
   "source": [
    "### 2.3 Measures"
   ]
  },
  {
   "cell_type": "code",
   "execution_count": null,
   "id": "ac96da38",
   "metadata": {},
   "outputs": [],
   "source": []
  },
  {
   "cell_type": "markdown",
   "id": "abe086c3",
   "metadata": {},
   "source": [
    "---\n",
    "## 3. Simulation Study\n",
    "---"
   ]
  },
  {
   "cell_type": "markdown",
   "id": "2bc0259d",
   "metadata": {},
   "source": [
    "### 3.1 Set-up"
   ]
  },
  {
   "cell_type": "markdown",
   "id": "1d78d8f1",
   "metadata": {},
   "source": [
    "We stipulte a sparse, linear data generation process. Importantly, due to the linearity - direct comparisons of the prediction error of the LASSO and the RF are not very useful. Instead, what is of interest to us is the relative performance for varying levels of data quality.\n",
    "\n",
    "The model emulates a frequently used DGP popularized by Belloni et al. 2011: the regression model is of the form\n",
    "\n",
    "$Y = X'\\beta_0 + \\varepsilon$"
   ]
  },
  {
   "cell_type": "markdown",
   "id": "8f23524f",
   "metadata": {},
   "source": [
    "The variables of interest are:\n",
    " - n observations to n predictors\n",
    " - number of non-zero coefficients\n",
    " - size of coefficients\n",
    " - signal to noise ratio !\n",
    " - Distribution of the error terms (?)"
   ]
  },
  {
   "cell_type": "code",
   "execution_count": 58,
   "id": "01cfbe55",
   "metadata": {},
   "outputs": [
    {
     "data": {
      "text/html": [
       "<table class=\"dataframe\">\n",
       "<caption>A data.frame: 6 × 101</caption>\n",
       "<thead>\n",
       "\t<tr><th></th><th scope=col>Y</th><th scope=col>X1</th><th scope=col>X2</th><th scope=col>X3</th><th scope=col>X4</th><th scope=col>X5</th><th scope=col>X6</th><th scope=col>X7</th><th scope=col>X8</th><th scope=col>X9</th><th scope=col>⋯</th><th scope=col>X91</th><th scope=col>X92</th><th scope=col>X93</th><th scope=col>X94</th><th scope=col>X95</th><th scope=col>X96</th><th scope=col>X97</th><th scope=col>X98</th><th scope=col>X99</th><th scope=col>X100</th></tr>\n",
       "\t<tr><th></th><th scope=col>&lt;dbl&gt;</th><th scope=col>&lt;dbl&gt;</th><th scope=col>&lt;dbl&gt;</th><th scope=col>&lt;dbl&gt;</th><th scope=col>&lt;dbl&gt;</th><th scope=col>&lt;dbl&gt;</th><th scope=col>&lt;dbl&gt;</th><th scope=col>&lt;dbl&gt;</th><th scope=col>&lt;dbl&gt;</th><th scope=col>&lt;dbl&gt;</th><th scope=col>⋯</th><th scope=col>&lt;dbl&gt;</th><th scope=col>&lt;dbl&gt;</th><th scope=col>&lt;dbl&gt;</th><th scope=col>&lt;dbl&gt;</th><th scope=col>&lt;dbl&gt;</th><th scope=col>&lt;dbl&gt;</th><th scope=col>&lt;dbl&gt;</th><th scope=col>&lt;dbl&gt;</th><th scope=col>&lt;dbl&gt;</th><th scope=col>&lt;dbl&gt;</th></tr>\n",
       "</thead>\n",
       "<tbody>\n",
       "\t<tr><th scope=row>1</th><td>-1.9248779</td><td> 0.7619444</td><td>-0.2366887</td><td>-0.79932017</td><td>-0.6172409</td><td>-0.9373001</td><td>-0.714218525</td><td> 1.4951783</td><td>-0.6596612</td><td> 1.1498532</td><td>⋯</td><td> 0.54654377</td><td>-0.13291029</td><td> 0.08653444</td><td>-0.4009254</td><td>-0.3048933</td><td>-0.5012653</td><td> 0.37030820</td><td> 1.7107204</td><td> 1.4405938</td><td>-0.5308745</td></tr>\n",
       "\t<tr><th scope=row>2</th><td> 2.5116256</td><td> 0.5828483</td><td> 1.1390493</td><td>-0.92183201</td><td> 0.3951035</td><td>-1.0418826</td><td>-1.009227468</td><td>-1.6948442</td><td>-0.1588641</td><td> 0.3452414</td><td>⋯</td><td> 0.22197258</td><td>-0.79320079</td><td>-0.83313609</td><td>-1.4202143</td><td>-0.8085460</td><td>-1.4040698</td><td>-1.24573672</td><td>-1.3514573</td><td> 0.4524767</td><td> 0.9309521</td></tr>\n",
       "\t<tr><th scope=row>3</th><td> 5.5064501</td><td> 0.1035297</td><td> 0.1477489</td><td>-0.26040352</td><td>-0.8502139</td><td> 0.3901858</td><td> 0.350025356</td><td> 1.6869651</td><td> 1.0923189</td><td> 0.1336877</td><td>⋯</td><td>-0.83369935</td><td>-0.26781844</td><td>-0.77759991</td><td> 0.9478600</td><td>-0.7288411</td><td> 0.3866305</td><td>-0.07580884</td><td>-1.8627581</td><td>-0.8167242</td><td>-0.4621552</td></tr>\n",
       "\t<tr><th scope=row>4</th><td> 5.6008446</td><td>-1.8982755</td><td>-0.5648260</td><td>-0.74357150</td><td>-1.5031414</td><td>-0.2236506</td><td>-0.724476973</td><td> 0.2175986</td><td>-0.5081647</td><td>-0.3667135</td><td>⋯</td><td>-2.78077050</td><td>-1.47914130</td><td>-0.38869625</td><td>-2.2413409</td><td>-3.0781671</td><td>-2.1580112</td><td>-2.29214140</td><td> 0.2416146</td><td> 0.3167793</td><td> 0.9344008</td></tr>\n",
       "\t<tr><th scope=row>5</th><td>-0.9134144</td><td>-0.1915366</td><td>-1.4930770</td><td>-1.15816437</td><td> 0.4741678</td><td>-0.5424446</td><td> 0.006738409</td><td>-0.2702731</td><td>-0.8488099</td><td>-0.1137651</td><td>⋯</td><td> 0.81180008</td><td>-0.13713100</td><td> 0.53721665</td><td> 1.0061964</td><td> 0.1874832</td><td> 0.6573568</td><td>-1.02879696</td><td>-1.2061697</td><td>-0.5152268</td><td> 0.3913617</td></tr>\n",
       "\t<tr><th scope=row>6</th><td>-1.8885374</td><td>-0.3836484</td><td> 1.0008224</td><td>-0.05103593</td><td> 0.5819881</td><td> 1.0876057</td><td> 1.329241854</td><td> 0.6173043</td><td>-0.3106449</td><td>-0.1318549</td><td>⋯</td><td> 0.03345994</td><td> 0.05877391</td><td> 0.56731354</td><td> 0.8994046</td><td> 0.6319639</td><td> 0.4805077</td><td>-0.80918516</td><td>-0.1380920</td><td>-0.2706493</td><td> 1.1769617</td></tr>\n",
       "</tbody>\n",
       "</table>\n"
      ],
      "text/latex": [
       "A data.frame: 6 × 101\n",
       "\\begin{tabular}{r|lllllllllllllllllllll}\n",
       "  & Y & X1 & X2 & X3 & X4 & X5 & X6 & X7 & X8 & X9 & ⋯ & X91 & X92 & X93 & X94 & X95 & X96 & X97 & X98 & X99 & X100\\\\\n",
       "  & <dbl> & <dbl> & <dbl> & <dbl> & <dbl> & <dbl> & <dbl> & <dbl> & <dbl> & <dbl> & ⋯ & <dbl> & <dbl> & <dbl> & <dbl> & <dbl> & <dbl> & <dbl> & <dbl> & <dbl> & <dbl>\\\\\n",
       "\\hline\n",
       "\t1 & -1.9248779 &  0.7619444 & -0.2366887 & -0.79932017 & -0.6172409 & -0.9373001 & -0.714218525 &  1.4951783 & -0.6596612 &  1.1498532 & ⋯ &  0.54654377 & -0.13291029 &  0.08653444 & -0.4009254 & -0.3048933 & -0.5012653 &  0.37030820 &  1.7107204 &  1.4405938 & -0.5308745\\\\\n",
       "\t2 &  2.5116256 &  0.5828483 &  1.1390493 & -0.92183201 &  0.3951035 & -1.0418826 & -1.009227468 & -1.6948442 & -0.1588641 &  0.3452414 & ⋯ &  0.22197258 & -0.79320079 & -0.83313609 & -1.4202143 & -0.8085460 & -1.4040698 & -1.24573672 & -1.3514573 &  0.4524767 &  0.9309521\\\\\n",
       "\t3 &  5.5064501 &  0.1035297 &  0.1477489 & -0.26040352 & -0.8502139 &  0.3901858 &  0.350025356 &  1.6869651 &  1.0923189 &  0.1336877 & ⋯ & -0.83369935 & -0.26781844 & -0.77759991 &  0.9478600 & -0.7288411 &  0.3866305 & -0.07580884 & -1.8627581 & -0.8167242 & -0.4621552\\\\\n",
       "\t4 &  5.6008446 & -1.8982755 & -0.5648260 & -0.74357150 & -1.5031414 & -0.2236506 & -0.724476973 &  0.2175986 & -0.5081647 & -0.3667135 & ⋯ & -2.78077050 & -1.47914130 & -0.38869625 & -2.2413409 & -3.0781671 & -2.1580112 & -2.29214140 &  0.2416146 &  0.3167793 &  0.9344008\\\\\n",
       "\t5 & -0.9134144 & -0.1915366 & -1.4930770 & -1.15816437 &  0.4741678 & -0.5424446 &  0.006738409 & -0.2702731 & -0.8488099 & -0.1137651 & ⋯ &  0.81180008 & -0.13713100 &  0.53721665 &  1.0061964 &  0.1874832 &  0.6573568 & -1.02879696 & -1.2061697 & -0.5152268 &  0.3913617\\\\\n",
       "\t6 & -1.8885374 & -0.3836484 &  1.0008224 & -0.05103593 &  0.5819881 &  1.0876057 &  1.329241854 &  0.6173043 & -0.3106449 & -0.1318549 & ⋯ &  0.03345994 &  0.05877391 &  0.56731354 &  0.8994046 &  0.6319639 &  0.4805077 & -0.80918516 & -0.1380920 & -0.2706493 &  1.1769617\\\\\n",
       "\\end{tabular}\n"
      ],
      "text/markdown": [
       "\n",
       "A data.frame: 6 × 101\n",
       "\n",
       "| <!--/--> | Y &lt;dbl&gt; | X1 &lt;dbl&gt; | X2 &lt;dbl&gt; | X3 &lt;dbl&gt; | X4 &lt;dbl&gt; | X5 &lt;dbl&gt; | X6 &lt;dbl&gt; | X7 &lt;dbl&gt; | X8 &lt;dbl&gt; | X9 &lt;dbl&gt; | ⋯ ⋯ | X91 &lt;dbl&gt; | X92 &lt;dbl&gt; | X93 &lt;dbl&gt; | X94 &lt;dbl&gt; | X95 &lt;dbl&gt; | X96 &lt;dbl&gt; | X97 &lt;dbl&gt; | X98 &lt;dbl&gt; | X99 &lt;dbl&gt; | X100 &lt;dbl&gt; |\n",
       "|---|---|---|---|---|---|---|---|---|---|---|---|---|---|---|---|---|---|---|---|---|---|\n",
       "| 1 | -1.9248779 |  0.7619444 | -0.2366887 | -0.79932017 | -0.6172409 | -0.9373001 | -0.714218525 |  1.4951783 | -0.6596612 |  1.1498532 | ⋯ |  0.54654377 | -0.13291029 |  0.08653444 | -0.4009254 | -0.3048933 | -0.5012653 |  0.37030820 |  1.7107204 |  1.4405938 | -0.5308745 |\n",
       "| 2 |  2.5116256 |  0.5828483 |  1.1390493 | -0.92183201 |  0.3951035 | -1.0418826 | -1.009227468 | -1.6948442 | -0.1588641 |  0.3452414 | ⋯ |  0.22197258 | -0.79320079 | -0.83313609 | -1.4202143 | -0.8085460 | -1.4040698 | -1.24573672 | -1.3514573 |  0.4524767 |  0.9309521 |\n",
       "| 3 |  5.5064501 |  0.1035297 |  0.1477489 | -0.26040352 | -0.8502139 |  0.3901858 |  0.350025356 |  1.6869651 |  1.0923189 |  0.1336877 | ⋯ | -0.83369935 | -0.26781844 | -0.77759991 |  0.9478600 | -0.7288411 |  0.3866305 | -0.07580884 | -1.8627581 | -0.8167242 | -0.4621552 |\n",
       "| 4 |  5.6008446 | -1.8982755 | -0.5648260 | -0.74357150 | -1.5031414 | -0.2236506 | -0.724476973 |  0.2175986 | -0.5081647 | -0.3667135 | ⋯ | -2.78077050 | -1.47914130 | -0.38869625 | -2.2413409 | -3.0781671 | -2.1580112 | -2.29214140 |  0.2416146 |  0.3167793 |  0.9344008 |\n",
       "| 5 | -0.9134144 | -0.1915366 | -1.4930770 | -1.15816437 |  0.4741678 | -0.5424446 |  0.006738409 | -0.2702731 | -0.8488099 | -0.1137651 | ⋯ |  0.81180008 | -0.13713100 |  0.53721665 |  1.0061964 |  0.1874832 |  0.6573568 | -1.02879696 | -1.2061697 | -0.5152268 |  0.3913617 |\n",
       "| 6 | -1.8885374 | -0.3836484 |  1.0008224 | -0.05103593 |  0.5819881 |  1.0876057 |  1.329241854 |  0.6173043 | -0.3106449 | -0.1318549 | ⋯ |  0.03345994 |  0.05877391 |  0.56731354 |  0.8994046 |  0.6319639 |  0.4805077 | -0.80918516 | -0.1380920 | -0.2706493 |  1.1769617 |\n",
       "\n"
      ],
      "text/plain": [
       "  Y          X1         X2         X3          X4         X5        \n",
       "1 -1.9248779  0.7619444 -0.2366887 -0.79932017 -0.6172409 -0.9373001\n",
       "2  2.5116256  0.5828483  1.1390493 -0.92183201  0.3951035 -1.0418826\n",
       "3  5.5064501  0.1035297  0.1477489 -0.26040352 -0.8502139  0.3901858\n",
       "4  5.6008446 -1.8982755 -0.5648260 -0.74357150 -1.5031414 -0.2236506\n",
       "5 -0.9134144 -0.1915366 -1.4930770 -1.15816437  0.4741678 -0.5424446\n",
       "6 -1.8885374 -0.3836484  1.0008224 -0.05103593  0.5819881  1.0876057\n",
       "  X6           X7         X8         X9         <U+22EF>        X91        \n",
       "1 -0.714218525  1.4951783 -0.6596612  1.1498532 <U+22EF>  0.54654377\n",
       "2 -1.009227468 -1.6948442 -0.1588641  0.3452414 <U+22EF>  0.22197258\n",
       "3  0.350025356  1.6869651  1.0923189  0.1336877 <U+22EF> -0.83369935\n",
       "4 -0.724476973  0.2175986 -0.5081647 -0.3667135 <U+22EF> -2.78077050\n",
       "5  0.006738409 -0.2702731 -0.8488099 -0.1137651 <U+22EF>  0.81180008\n",
       "6  1.329241854  0.6173043 -0.3106449 -0.1318549 <U+22EF>  0.03345994\n",
       "  X92         X93         X94        X95        X96        X97        \n",
       "1 -0.13291029  0.08653444 -0.4009254 -0.3048933 -0.5012653  0.37030820\n",
       "2 -0.79320079 -0.83313609 -1.4202143 -0.8085460 -1.4040698 -1.24573672\n",
       "3 -0.26781844 -0.77759991  0.9478600 -0.7288411  0.3866305 -0.07580884\n",
       "4 -1.47914130 -0.38869625 -2.2413409 -3.0781671 -2.1580112 -2.29214140\n",
       "5 -0.13713100  0.53721665  1.0061964  0.1874832  0.6573568 -1.02879696\n",
       "6  0.05877391  0.56731354  0.8994046  0.6319639  0.4805077 -0.80918516\n",
       "  X98        X99        X100      \n",
       "1  1.7107204  1.4405938 -0.5308745\n",
       "2 -1.3514573  0.4524767  0.9309521\n",
       "3 -1.8627581 -0.8167242 -0.4621552\n",
       "4  0.2416146  0.3167793  0.9344008\n",
       "5 -1.2061697 -0.5152268  0.3913617\n",
       "6 -0.1380920 -0.2706493  1.1769617"
      ]
     },
     "metadata": {},
     "output_type": "display_data"
    }
   ],
   "source": [
    "snr.vec = exp(seq(log(0.05),log(6),length=10)) # Signal-to-noise ratios "
   ]
  },
  {
   "cell_type": "markdown",
   "id": "b60f1397",
   "metadata": {},
   "source": [
    "**Orient correlation coefficient $\\rho$ and sample size on application data**"
   ]
  },
  {
   "cell_type": "markdown",
   "id": "99534a7f",
   "metadata": {},
   "source": [
    "What is my signal to Noise ratio here? $SNR = \\frac{var(x'\\beta^0)}{\\sigma^2}$"
   ]
  },
  {
   "cell_type": "markdown",
   "id": "ddc22e1c",
   "metadata": {},
   "source": [
    "### 3.2 Case 1 - Baseline"
   ]
  },
  {
   "cell_type": "markdown",
   "id": "afc34653",
   "metadata": {},
   "source": [
    "Looking at the case without special collinearity between the significant coefficients. \n",
    "\n",
    "**Measures**\n",
    " - retention frequency\n",
    " - prediction error"
   ]
  },
  {
   "cell_type": "code",
   "execution_count": 164,
   "id": "a4c1a782",
   "metadata": {},
   "outputs": [
    {
     "ename": "ERROR",
     "evalue": "Error in enumerate(snr.vec): konnte Funktion \"enumerate\" nicht finden\n",
     "output_type": "error",
     "traceback": [
      "Error in enumerate(snr.vec): konnte Funktion \"enumerate\" nicht finden\nTraceback:\n"
     ]
    }
   ],
   "source": []
  },
  {
   "cell_type": "code",
   "execution_count": 163,
   "id": "48d34fe4",
   "metadata": {},
   "outputs": [
    {
     "name": "stdout",
     "output_type": "stream",
     "text": [
      "[1] 0.05\n",
      "[1] 0.08511187\n",
      "[1] 0.1448806\n",
      "[1] 0.2466212\n",
      "[1] 0.4198079\n",
      "[1] 0.7146126\n",
      "[1] 1.21644\n",
      "[1] 2.07067\n",
      "[1] 3.524773\n",
      "[1] 6\n"
     ]
    }
   ],
   "source": [
    "snr.vec = exp(seq(log(0.05),log(6),length=10))\n",
    "for (i in snr.vec){\n",
    "    print(i)\n",
    "}"
   ]
  },
  {
   "cell_type": "code",
   "execution_count": 218,
   "id": "c9dca69b",
   "metadata": {},
   "outputs": [],
   "source": [
    "cv.lasso_2 <- function(data, #data frame - dependent variable first\n",
    "                     beta # true coefficients\n",
    "){\n",
    "  #--------------------------\n",
    "  # Uses 10 fold CV and uses 1 SE lambda\n",
    "  # as conservative estimate for variable selection\n",
    "  # -------------------------\n",
    "  x <- data.matrix(df[,-1]) #explan var, glmnet can't use dataframe\n",
    "  y <- data.matrix(df[,1]) #dependent var, glmnet can't use dataframe\n",
    "  \n",
    "  cv.out = cv.glmnet(x, y, alpha = 1, intercept=FALSE) # Fit lasso model on training data\n",
    "  #lam = cv.out$lambda.1se # Select more conservative lambda for variable selection\n",
    "  lam = cv.out$lambda.min\n",
    "  \n",
    "  lasso_coef = predict(cv.out, type = \"coefficients\", s = lam) # Display coefficients using lambda chosen by CV\n",
    "  return(var_retention(lasso_coef, beta))\n",
    "}"
   ]
  },
  {
   "cell_type": "code",
   "execution_count": 238,
   "id": "2d4b2dae",
   "metadata": {},
   "outputs": [
    {
     "data": {
      "image/png": "[encoded data removed]",
      "text/plain": [
       "Plot with title \"Retention frequency lasso - conservative\""
      ]
     },
     "metadata": {
      "image/png": {
       "height": 420,
       "width": 420
      }
     },
     "output_type": "display_data"
    },
    {
     "data": {
      "image/png": "[encoded data removed]",
      "text/plain": [
       "Plot with title \"Retention frequency lasso - optimal pred\""
      ]
     },
     "metadata": {
      "image/png": {
       "height": 420,
       "width": 420
      }
     },
     "output_type": "display_data"
    }
   ],
   "source": [
    "#--------------------------------\n",
    "# Simulation 1\n",
    "#--------------------------------\n",
    "\n",
    "# Number of simulations\n",
    "n_sim = 100\n",
    "# Signal-to-noise ratios \n",
    "snr.vec = exp(seq(log(0.05),log(6),length=10))\n",
    "#beta vector\n",
    "beta = beta_1(p=50,s=5)\n",
    "#to store results\n",
    "container = matrix(NaN, ncol=length(snr.vec), nrow=n_sim) # each column corresponds to SNR value\n",
    "container2 = matrix(NaN, ncol=length(snr.vec), nrow=n_sim) # each column corresponds to SNR value\n",
    "\n",
    "for (j in 1:length(snr.vec)){\n",
    "    SNR = snr.vec[j]\n",
    "    for (i in 1:n_sim){\n",
    "        df <- simulate(n=100, p=50, rho=0.5, beta=beta, SNR = SNR)$df \n",
    "        container[i, j] = cv.lasso(data=df, beta=beta) #obtain retention of lasso\n",
    "        container2[i, j] = cv.lasso_2(data=df, beta=beta)\n",
    "    }\n",
    "}\n",
    "true_sparsity = length(beta) #sum(beta)# SUM as sparsity measure not correct if true beta not binary\n",
    "\n",
    "data_container = data.frame(container)\n",
    "#colnames(data_container) = snr.vec\n",
    "mean_retention = as.numeric(colMeans(data_container)) #create list of mean values\n",
    "mean_ret_freq = mean_retention / true_sparsity * 100 # get percentage\n",
    "plot(snr.vec, mean_ret_freq, main=\"Retention frequency lasso - conservative\")\n",
    "\n",
    "data_container2 = data.frame(container2)\n",
    "#colnames(data_container) = snr.vec\n",
    "mean_retention2 = as.numeric(colMeans(data_container2)) #create list of mean values\n",
    "mean_ret_freq2 = mean_retention2 / true_sparsity * 100 # get percentage\n",
    "plot(snr.vec, mean_ret_freq2, main=\"Retention frequency lasso - optimal pred\")\n"
   ]
  },
  {
   "cell_type": "code",
   "execution_count": 186,
   "id": "aa3407b3",
   "metadata": {},
   "outputs": [
    {
     "data": {
      "image/png": "[encoded data removed]",
      "text/plain": [
       "plot without title"
      ]
     },
     "metadata": {
      "image/png": {
       "height": 420,
       "width": 420
      }
     },
     "output_type": "display_data"
    }
   ],
   "source": [
    "true_sparsity = sum(beta)# SUM as sparsity measure not correct if true beta not binary\n",
    "data_container = data.frame(container)\n",
    "#colnames(data_container) = snr.vec\n",
    "mean_retention = as.numeric(colMeans(data_container)) #create list of mean values\n",
    "mean_ret_freq = mean_retention / sparsity * 100 # get percentage\n",
    "plot(snr.vec, mean_ret_freq)"
   ]
  },
  {
   "cell_type": "markdown",
   "id": "13b9a418",
   "metadata": {},
   "source": [
    "---\n",
    "## 3. Application\n",
    "---"
   ]
  },
  {
   "cell_type": "markdown",
   "id": "de40aaa2",
   "metadata": {},
   "source": [
    "---\n",
    "# Reference Section\n",
    "---\n",
    "* Belloni et al 2011"
   ]
  }
 ],
 "metadata": {
  "interpreter": {
   "hash": "b1be2b7f3f1894d6d8c8af9ec3a4f1d7c1309b90ba0dd6b5bed9a14371c4a4ae"
  },
  "kernelspec": {
   "display_name": "R",
   "language": "R",
   "name": "ir"
  },
  "language_info": {
   "codemirror_mode": "r",
   "file_extension": ".r",
   "mimetype": "text/x-r-source",
   "name": "R",
   "pygments_lexer": "r",
   "version": "4.1.0"
  }
 },
 "nbformat": 4,
 "nbformat_minor": 5
}
