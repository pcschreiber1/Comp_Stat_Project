{
 "cells": [
  {
   "cell_type": "markdown",
   "source": [
    "---\n",
    "# Computational Statistics project: \n",
    "### Comparing Lasso and Random Forest for variable selection\n",
    "---"
   ],
   "metadata": {}
  },
  {
   "cell_type": "markdown",
   "source": [
    "Content\n",
    " - Variable selection with Lasso\n",
    "  - (Not really like bottom-up adding of variables to get optimal predictive model)\n",
    " - Variable selection with Random Forest (RF)\n",
    "  - Why random forest and not boosting (who's penalty score looks similar to Lasso)\n",
    "  - Why comparing linear and non-linear method?\n",
    "    - common questions of interest like behaviour in collinearity?\n",
    "    - or can they be competing methods? If so, for what type of applications\n",
    " - Simulation Study\n",
    " - Application\n",
    "   \n",
    "  "
   ],
   "metadata": {}
  },
  {
   "cell_type": "markdown",
   "source": [
    "Covariance matrix $\\rho^{i-j}$ or additional term for correlation of only some variables?"
   ],
   "metadata": {}
  }
 ],
 "metadata": {
  "kernelspec": {
   "name": "python3",
   "display_name": "Python 3.9.5 64-bit ('r_env': conda)"
  },
  "language_info": {
   "codemirror_mode": "r",
   "file_extension": ".r",
   "mimetype": "text/x-r-source",
   "name": "python",
   "pygments_lexer": "r",
   "version": "3.9.5"
  },
  "interpreter": {
   "hash": "b1be2b7f3f1894d6d8c8af9ec3a4f1d7c1309b90ba0dd6b5bed9a14371c4a4ae"
  }
 },
 "nbformat": 4,
 "nbformat_minor": 5
}