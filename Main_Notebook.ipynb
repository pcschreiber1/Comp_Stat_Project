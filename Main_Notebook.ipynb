{
 "cells": [
  {
   "cell_type": "markdown",
   "id": "c7be0689",
   "metadata": {},
   "source": [
    "---\n",
    "# Computational Statistics project: \n",
    "### Comparing Lasso and Random Forest for variable selection\n",
    "---"
   ]
  },
  {
   "cell_type": "code",
   "execution_count": 1,
   "id": "8e212b14",
   "metadata": {},
   "outputs": [],
   "source": [
    "# Imports\n",
    "library(MASS) \n",
    "library(stats) #for fast toeplitz matrix\n",
    "\n",
    "#Import auxiliary functions\n",
    "source(\"auxiliary_functions.R\", local=FALSE)"
   ]
  },
  {
   "cell_type": "code",
   "execution_count": 2,
   "id": "1eb55e30",
   "metadata": {},
   "outputs": [],
   "source": [
    "set.seed(456)"
   ]
  },
  {
   "cell_type": "markdown",
   "id": "2ea60c7e",
   "metadata": {},
   "source": [
    "---\n",
    "## 1. Introduction\n",
    "---"
   ]
  },
  {
   "cell_type": "markdown",
   "id": "8c2968ba",
   "metadata": {},
   "source": [
    "---\n",
    "## 2 Variable Selection\n",
    "---"
   ]
  },
  {
   "cell_type": "markdown",
   "id": "15db7c51",
   "metadata": {},
   "source": [
    "### 2.1 LASSO"
   ]
  },
  {
   "cell_type": "code",
   "execution_count": null,
   "id": "4a757cb9",
   "metadata": {},
   "outputs": [],
   "source": []
  },
  {
   "cell_type": "markdown",
   "id": "0f4bd26b",
   "metadata": {},
   "source": [
    "### 2.2 RF"
   ]
  },
  {
   "cell_type": "code",
   "execution_count": null,
   "id": "0d82a7a6",
   "metadata": {},
   "outputs": [],
   "source": []
  },
  {
   "cell_type": "markdown",
   "id": "35587806",
   "metadata": {},
   "source": [
    "### 2.3 Measures"
   ]
  },
  {
   "cell_type": "code",
   "execution_count": null,
   "id": "ac96da38",
   "metadata": {},
   "outputs": [],
   "source": []
  },
  {
   "cell_type": "markdown",
   "id": "abe086c3",
   "metadata": {},
   "source": [
    "---\n",
    "## 3. Simulation Study\n",
    "---"
   ]
  },
  {
   "cell_type": "markdown",
   "id": "2bc0259d",
   "metadata": {},
   "source": [
    "### 3.1 Set-up"
   ]
  },
  {
   "cell_type": "markdown",
   "id": "1d78d8f1",
   "metadata": {},
   "source": [
    "We stipulte a sparse, linear data generation process. Importantly, due to the linearity - direct comparisons of the prediction error of the LASSO and the RF are not very useful. Instead, what is of interest to us is the relative performance for varying levels of data quality.\n",
    "\n",
    "The model emulates a frequently used DGP popularized by Belloni et al. 2011: the regression model is of the form\n",
    "\n",
    "$Y = X'\\beta_0 + \\varepsilon$"
   ]
  },
  {
   "cell_type": "markdown",
   "id": "8f23524f",
   "metadata": {},
   "source": [
    "The variables of interest are:\n",
    " - n observations to n predictors\n",
    " - number of non-zero coefficients\n",
    " - size of coefficients\n",
    " - signal to noise ratio !\n",
    " - Distribution of the error terms (?)"
   ]
  },
  {
   "cell_type": "code",
   "execution_count": 3,
   "id": "01cfbe55",
   "metadata": {},
   "outputs": [
    {
     "data": {
      "text/html": [
       "<table class=\"dataframe\">\n",
       "<caption>A data.frame: 6 × 101</caption>\n",
       "<thead>\n",
       "\t<tr><th></th><th scope=col>Y</th><th scope=col>X1</th><th scope=col>X2</th><th scope=col>X3</th><th scope=col>X4</th><th scope=col>X5</th><th scope=col>X6</th><th scope=col>X7</th><th scope=col>X8</th><th scope=col>X9</th><th scope=col>⋯</th><th scope=col>X91</th><th scope=col>X92</th><th scope=col>X93</th><th scope=col>X94</th><th scope=col>X95</th><th scope=col>X96</th><th scope=col>X97</th><th scope=col>X98</th><th scope=col>X99</th><th scope=col>X100</th></tr>\n",
       "\t<tr><th></th><th scope=col>&lt;dbl&gt;</th><th scope=col>&lt;dbl&gt;</th><th scope=col>&lt;dbl&gt;</th><th scope=col>&lt;dbl&gt;</th><th scope=col>&lt;dbl&gt;</th><th scope=col>&lt;dbl&gt;</th><th scope=col>&lt;dbl&gt;</th><th scope=col>&lt;dbl&gt;</th><th scope=col>&lt;dbl&gt;</th><th scope=col>&lt;dbl&gt;</th><th scope=col>⋯</th><th scope=col>&lt;dbl&gt;</th><th scope=col>&lt;dbl&gt;</th><th scope=col>&lt;dbl&gt;</th><th scope=col>&lt;dbl&gt;</th><th scope=col>&lt;dbl&gt;</th><th scope=col>&lt;dbl&gt;</th><th scope=col>&lt;dbl&gt;</th><th scope=col>&lt;dbl&gt;</th><th scope=col>&lt;dbl&gt;</th><th scope=col>&lt;dbl&gt;</th></tr>\n",
       "</thead>\n",
       "<tbody>\n",
       "\t<tr><th scope=row>1</th><td>-0.122382006</td><td> 0.5631700</td><td> 0.3704573</td><td>-0.05457220</td><td>-0.0822142</td><td> 0.1531361</td><td> 1.22995708</td><td> 0.8436492</td><td>-1.06057199</td><td>-0.621701750</td><td>⋯</td><td> 0.4170016</td><td> 0.07188499</td><td> 1.7569537</td><td>-1.2357546</td><td>-0.7573094</td><td>-1.0863422</td><td>-0.5950666</td><td>-1.72412345</td><td>-0.8902131</td><td>-1.16959916</td></tr>\n",
       "\t<tr><th scope=row>2</th><td>-0.782831144</td><td> 0.5133443</td><td> 0.0912919</td><td>-0.06212029</td><td> 1.8397683</td><td> 0.6889430</td><td> 0.02892623</td><td>-0.4635067</td><td> 2.30278351</td><td> 1.638343192</td><td>⋯</td><td> 1.2023690</td><td>-1.16942288</td><td> 0.5023184</td><td>-2.0363256</td><td>-0.3961266</td><td>-0.3435142</td><td> 0.5424981</td><td>-0.37451050</td><td> 0.2322417</td><td> 0.08819934</td></tr>\n",
       "\t<tr><th scope=row>3</th><td> 0.004918806</td><td>-0.3958803</td><td>-0.1989434</td><td> 0.93221793</td><td> 0.4113333</td><td> 1.0661119</td><td>-0.30410812</td><td> 0.6746924</td><td> 1.77901175</td><td> 0.007572251</td><td>⋯</td><td>-0.1094645</td><td>-0.72973882</td><td> 0.2452632</td><td>-0.2997512</td><td> 1.2339060</td><td> 0.3824722</td><td> 0.7566942</td><td>-0.68263108</td><td>-1.2042095</td><td>-1.07676222</td></tr>\n",
       "\t<tr><th scope=row>4</th><td>-1.894713333</td><td>-1.8701442</td><td>-0.3995208</td><td> 0.39619932</td><td>-0.8112229</td><td>-0.7181958</td><td>-1.04029536</td><td>-0.9069355</td><td>-0.43193891</td><td> 0.356338875</td><td>⋯</td><td> 2.2169479</td><td> 2.78971876</td><td> 0.2669565</td><td> 0.3444761</td><td>-0.8653121</td><td> 0.4045451</td><td>-0.4956664</td><td>-1.27838430</td><td> 0.3607651</td><td> 0.99387953</td></tr>\n",
       "\t<tr><th scope=row>5</th><td>-3.046231083</td><td> 0.6665568</td><td> 1.0816778</td><td>-0.66746471</td><td>-0.8412897</td><td>-0.6636646</td><td>-0.70527654</td><td>-0.9006999</td><td>-0.07185995</td><td> 0.477724391</td><td>⋯</td><td> 0.4722650</td><td> 1.24388102</td><td> 1.3614714</td><td> 1.7944987</td><td> 0.6752546</td><td> 0.6167135</td><td> 0.2548338</td><td> 1.86769023</td><td> 1.5189985</td><td> 0.73643199</td></tr>\n",
       "\t<tr><th scope=row>6</th><td>-1.501009056</td><td> 0.6743191</td><td>-0.6446860</td><td>-0.79834570</td><td> 0.2206195</td><td> 1.9161518</td><td> 0.03111727</td><td>-0.7132421</td><td>-0.96433065</td><td>-1.340048222</td><td>⋯</td><td> 0.7566137</td><td>-1.82486251</td><td>-1.4517218</td><td>-0.3292665</td><td>-0.2277125</td><td>-1.4206689</td><td>-0.5062045</td><td> 0.07974973</td><td> 0.8197603</td><td>-0.28410004</td></tr>\n",
       "</tbody>\n",
       "</table>\n"
      ],
      "text/latex": [
       "A data.frame: 6 × 101\n",
       "\\begin{tabular}{r|lllllllllllllllllllll}\n",
       "  & Y & X1 & X2 & X3 & X4 & X5 & X6 & X7 & X8 & X9 & ⋯ & X91 & X92 & X93 & X94 & X95 & X96 & X97 & X98 & X99 & X100\\\\\n",
       "  & <dbl> & <dbl> & <dbl> & <dbl> & <dbl> & <dbl> & <dbl> & <dbl> & <dbl> & <dbl> & ⋯ & <dbl> & <dbl> & <dbl> & <dbl> & <dbl> & <dbl> & <dbl> & <dbl> & <dbl> & <dbl>\\\\\n",
       "\\hline\n",
       "\t1 & -0.122382006 &  0.5631700 &  0.3704573 & -0.05457220 & -0.0822142 &  0.1531361 &  1.22995708 &  0.8436492 & -1.06057199 & -0.621701750 & ⋯ &  0.4170016 &  0.07188499 &  1.7569537 & -1.2357546 & -0.7573094 & -1.0863422 & -0.5950666 & -1.72412345 & -0.8902131 & -1.16959916\\\\\n",
       "\t2 & -0.782831144 &  0.5133443 &  0.0912919 & -0.06212029 &  1.8397683 &  0.6889430 &  0.02892623 & -0.4635067 &  2.30278351 &  1.638343192 & ⋯ &  1.2023690 & -1.16942288 &  0.5023184 & -2.0363256 & -0.3961266 & -0.3435142 &  0.5424981 & -0.37451050 &  0.2322417 &  0.08819934\\\\\n",
       "\t3 &  0.004918806 & -0.3958803 & -0.1989434 &  0.93221793 &  0.4113333 &  1.0661119 & -0.30410812 &  0.6746924 &  1.77901175 &  0.007572251 & ⋯ & -0.1094645 & -0.72973882 &  0.2452632 & -0.2997512 &  1.2339060 &  0.3824722 &  0.7566942 & -0.68263108 & -1.2042095 & -1.07676222\\\\\n",
       "\t4 & -1.894713333 & -1.8701442 & -0.3995208 &  0.39619932 & -0.8112229 & -0.7181958 & -1.04029536 & -0.9069355 & -0.43193891 &  0.356338875 & ⋯ &  2.2169479 &  2.78971876 &  0.2669565 &  0.3444761 & -0.8653121 &  0.4045451 & -0.4956664 & -1.27838430 &  0.3607651 &  0.99387953\\\\\n",
       "\t5 & -3.046231083 &  0.6665568 &  1.0816778 & -0.66746471 & -0.8412897 & -0.6636646 & -0.70527654 & -0.9006999 & -0.07185995 &  0.477724391 & ⋯ &  0.4722650 &  1.24388102 &  1.3614714 &  1.7944987 &  0.6752546 &  0.6167135 &  0.2548338 &  1.86769023 &  1.5189985 &  0.73643199\\\\\n",
       "\t6 & -1.501009056 &  0.6743191 & -0.6446860 & -0.79834570 &  0.2206195 &  1.9161518 &  0.03111727 & -0.7132421 & -0.96433065 & -1.340048222 & ⋯ &  0.7566137 & -1.82486251 & -1.4517218 & -0.3292665 & -0.2277125 & -1.4206689 & -0.5062045 &  0.07974973 &  0.8197603 & -0.28410004\\\\\n",
       "\\end{tabular}\n"
      ],
      "text/markdown": [
       "\n",
       "A data.frame: 6 × 101\n",
       "\n",
       "| <!--/--> | Y &lt;dbl&gt; | X1 &lt;dbl&gt; | X2 &lt;dbl&gt; | X3 &lt;dbl&gt; | X4 &lt;dbl&gt; | X5 &lt;dbl&gt; | X6 &lt;dbl&gt; | X7 &lt;dbl&gt; | X8 &lt;dbl&gt; | X9 &lt;dbl&gt; | ⋯ ⋯ | X91 &lt;dbl&gt; | X92 &lt;dbl&gt; | X93 &lt;dbl&gt; | X94 &lt;dbl&gt; | X95 &lt;dbl&gt; | X96 &lt;dbl&gt; | X97 &lt;dbl&gt; | X98 &lt;dbl&gt; | X99 &lt;dbl&gt; | X100 &lt;dbl&gt; |\n",
       "|---|---|---|---|---|---|---|---|---|---|---|---|---|---|---|---|---|---|---|---|---|---|\n",
       "| 1 | -0.122382006 |  0.5631700 |  0.3704573 | -0.05457220 | -0.0822142 |  0.1531361 |  1.22995708 |  0.8436492 | -1.06057199 | -0.621701750 | ⋯ |  0.4170016 |  0.07188499 |  1.7569537 | -1.2357546 | -0.7573094 | -1.0863422 | -0.5950666 | -1.72412345 | -0.8902131 | -1.16959916 |\n",
       "| 2 | -0.782831144 |  0.5133443 |  0.0912919 | -0.06212029 |  1.8397683 |  0.6889430 |  0.02892623 | -0.4635067 |  2.30278351 |  1.638343192 | ⋯ |  1.2023690 | -1.16942288 |  0.5023184 | -2.0363256 | -0.3961266 | -0.3435142 |  0.5424981 | -0.37451050 |  0.2322417 |  0.08819934 |\n",
       "| 3 |  0.004918806 | -0.3958803 | -0.1989434 |  0.93221793 |  0.4113333 |  1.0661119 | -0.30410812 |  0.6746924 |  1.77901175 |  0.007572251 | ⋯ | -0.1094645 | -0.72973882 |  0.2452632 | -0.2997512 |  1.2339060 |  0.3824722 |  0.7566942 | -0.68263108 | -1.2042095 | -1.07676222 |\n",
       "| 4 | -1.894713333 | -1.8701442 | -0.3995208 |  0.39619932 | -0.8112229 | -0.7181958 | -1.04029536 | -0.9069355 | -0.43193891 |  0.356338875 | ⋯ |  2.2169479 |  2.78971876 |  0.2669565 |  0.3444761 | -0.8653121 |  0.4045451 | -0.4956664 | -1.27838430 |  0.3607651 |  0.99387953 |\n",
       "| 5 | -3.046231083 |  0.6665568 |  1.0816778 | -0.66746471 | -0.8412897 | -0.6636646 | -0.70527654 | -0.9006999 | -0.07185995 |  0.477724391 | ⋯ |  0.4722650 |  1.24388102 |  1.3614714 |  1.7944987 |  0.6752546 |  0.6167135 |  0.2548338 |  1.86769023 |  1.5189985 |  0.73643199 |\n",
       "| 6 | -1.501009056 |  0.6743191 | -0.6446860 | -0.79834570 |  0.2206195 |  1.9161518 |  0.03111727 | -0.7132421 | -0.96433065 | -1.340048222 | ⋯ |  0.7566137 | -1.82486251 | -1.4517218 | -0.3292665 | -0.2277125 | -1.4206689 | -0.5062045 |  0.07974973 |  0.8197603 | -0.28410004 |\n",
       "\n"
      ],
      "text/plain": [
       "  Y            X1         X2         X3          X4         X5        \n",
       "1 -0.122382006  0.5631700  0.3704573 -0.05457220 -0.0822142  0.1531361\n",
       "2 -0.782831144  0.5133443  0.0912919 -0.06212029  1.8397683  0.6889430\n",
       "3  0.004918806 -0.3958803 -0.1989434  0.93221793  0.4113333  1.0661119\n",
       "4 -1.894713333 -1.8701442 -0.3995208  0.39619932 -0.8112229 -0.7181958\n",
       "5 -3.046231083  0.6665568  1.0816778 -0.66746471 -0.8412897 -0.6636646\n",
       "6 -1.501009056  0.6743191 -0.6446860 -0.79834570  0.2206195  1.9161518\n",
       "  X6          X7         X8          X9           <U+22EF>        X91       \n",
       "1  1.22995708  0.8436492 -1.06057199 -0.621701750 <U+22EF>  0.4170016\n",
       "2  0.02892623 -0.4635067  2.30278351  1.638343192 <U+22EF>  1.2023690\n",
       "3 -0.30410812  0.6746924  1.77901175  0.007572251 <U+22EF> -0.1094645\n",
       "4 -1.04029536 -0.9069355 -0.43193891  0.356338875 <U+22EF>  2.2169479\n",
       "5 -0.70527654 -0.9006999 -0.07185995  0.477724391 <U+22EF>  0.4722650\n",
       "6  0.03111727 -0.7132421 -0.96433065 -1.340048222 <U+22EF>  0.7566137\n",
       "  X92         X93        X94        X95        X96        X97       \n",
       "1  0.07188499  1.7569537 -1.2357546 -0.7573094 -1.0863422 -0.5950666\n",
       "2 -1.16942288  0.5023184 -2.0363256 -0.3961266 -0.3435142  0.5424981\n",
       "3 -0.72973882  0.2452632 -0.2997512  1.2339060  0.3824722  0.7566942\n",
       "4  2.78971876  0.2669565  0.3444761 -0.8653121  0.4045451 -0.4956664\n",
       "5  1.24388102  1.3614714  1.7944987  0.6752546  0.6167135  0.2548338\n",
       "6 -1.82486251 -1.4517218 -0.3292665 -0.2277125 -1.4206689 -0.5062045\n",
       "  X98         X99        X100       \n",
       "1 -1.72412345 -0.8902131 -1.16959916\n",
       "2 -0.37451050  0.2322417  0.08819934\n",
       "3 -0.68263108 -1.2042095 -1.07676222\n",
       "4 -1.27838430  0.3607651  0.99387953\n",
       "5  1.86769023  1.5189985  0.73643199\n",
       "6  0.07974973  0.8197603 -0.28410004"
      ]
     },
     "metadata": {},
     "output_type": "display_data"
    }
   ],
   "source": [
    "beta = beta_1(100,5)\n",
    "df <- simulate(n=100, p=100, rho=0.5, beta=beta, SNR = 1)$df\n",
    "head(df)"
   ]
  },
  {
   "cell_type": "markdown",
   "id": "b60f1397",
   "metadata": {},
   "source": [
    "**Orient correlation coefficient $\\rho$ and sample size on application data**"
   ]
  },
  {
   "cell_type": "markdown",
   "id": "99534a7f",
   "metadata": {},
   "source": [
    "What is my signal to Noise ratio here? $SNR = \\frac{var(x'\\beta^0)}{\\sigma^2}$"
   ]
  },
  {
   "cell_type": "code",
   "execution_count": 22,
   "id": "eec8517e",
   "metadata": {},
   "outputs": [
    {
     "data": {
      "text/html": [
       "<table class=\"dataframe\">\n",
       "<caption>A matrix: 1 × 1 of type dbl</caption>\n",
       "<tbody>\n",
       "\t<tr><td>NaN</td></tr>\n",
       "</tbody>\n",
       "</table>\n"
      ],
      "text/latex": [
       "A matrix: 1 × 1 of type dbl\n",
       "\\begin{tabular}{l}\n",
       "\t NaN\\\\\n",
       "\\end{tabular}\n"
      ],
      "text/markdown": [
       "\n",
       "A matrix: 1 × 1 of type dbl\n",
       "\n",
       "| NaN |\n",
       "\n"
      ],
      "text/plain": [
       "     [,1]\n",
       "[1,] NaN "
      ]
     },
     "metadata": {},
     "output_type": "display_data"
    }
   ],
   "source": [
    "matrix(NaN, ncol=1)"
   ]
  },
  {
   "cell_type": "code",
   "execution_count": 46,
   "id": "a177704e",
   "metadata": {},
   "outputs": [],
   "source": [
    "simulate <- function(n, #number of observations\n",
    "                     p, #number of covariates\n",
    "                     rho, #degree of covariance\n",
    "                     beta, #vetctor of true coefficients\n",
    "                     SNR # desired Signal-to-Noise ratio\n",
    "){\n",
    "  if (length(beta) != p){\n",
    "    cat(\"Number of beta coefficient unequal to p\")\n",
    "  }else{\n",
    "    #Mean of explanatory variables\n",
    "    mu = rep(0,p) #all covariates are standardized with mean zero\n",
    "    \n",
    "    #Variance-Covariance Matrix\n",
    "    ###Note: Matrix only depends on p and rho\n",
    "    toep = rho^(0:(p-1)) #creates geometric series starting at one\n",
    "    Sigma = toeplitz(toep) #creates toeplitz matrix from geometric series: rho^(i-j)\n",
    "    \n",
    "    #explanatory variables\n",
    "    X = mvrnorm(n, mu, Sigma)\n",
    "    \n",
    "    # Set snr based on sample variance on infinitely large test set\n",
    "    var_mu = as.numeric(t(beta) %*% Sigma %*% beta)\n",
    "    sigma = as.numeric(sqrt(var_mu/SNR))\n",
    "\n",
    "    # Generate response variable\n",
    "    Y = as.numeric(X %*% beta + rnorm(n)*sigma)\n",
    "      \n",
    "    #-------Creating data frame\n",
    "    df <- data.frame(Y, X)\n",
    "    \n",
    "    list_1 = list(\"df\" = df, \"sigma\" = sigma)\n",
    "    return(list_1)\n",
    "  } \n",
    "}"
   ]
  },
  {
   "cell_type": "code",
   "execution_count": 57,
   "id": "30eaf674",
   "metadata": {},
   "outputs": [
    {
     "data": {
      "text/html": [
       "<table class=\"dataframe\">\n",
       "<caption>A data.frame: 6 × 11</caption>\n",
       "<thead>\n",
       "\t<tr><th></th><th scope=col>Y</th><th scope=col>X1</th><th scope=col>X2</th><th scope=col>X3</th><th scope=col>X4</th><th scope=col>X5</th><th scope=col>X6</th><th scope=col>X7</th><th scope=col>X8</th><th scope=col>X9</th><th scope=col>X10</th></tr>\n",
       "\t<tr><th></th><th scope=col>&lt;dbl&gt;</th><th scope=col>&lt;dbl&gt;</th><th scope=col>&lt;dbl&gt;</th><th scope=col>&lt;dbl&gt;</th><th scope=col>&lt;dbl&gt;</th><th scope=col>&lt;dbl&gt;</th><th scope=col>&lt;dbl&gt;</th><th scope=col>&lt;dbl&gt;</th><th scope=col>&lt;dbl&gt;</th><th scope=col>&lt;dbl&gt;</th><th scope=col>&lt;dbl&gt;</th></tr>\n",
       "</thead>\n",
       "<tbody>\n",
       "\t<tr><th scope=row>1</th><td> 3.104494411</td><td> 0.3812724</td><td> 0.1655085</td><td> 1.0202853</td><td> 0.5799850</td><td> 0.8404607</td><td> 0.28834650</td><td> 0.3780697</td><td> 0.31273187</td><td> 1.1412918</td><td> 0.4468788</td></tr>\n",
       "\t<tr><th scope=row>2</th><td> 0.006126285</td><td> 0.6167204</td><td> 0.2686988</td><td> 0.2619658</td><td> 0.8981043</td><td>-0.1682565</td><td>-1.14249695</td><td>-0.8203530</td><td>-0.24201470</td><td>-0.1913897</td><td>-1.3175664</td></tr>\n",
       "\t<tr><th scope=row>3</th><td>-5.116991072</td><td>-0.8144163</td><td>-0.9008645</td><td>-1.9297572</td><td>-1.0541327</td><td>-1.1009114</td><td>-0.96590490</td><td> 0.2355541</td><td> 0.55199905</td><td> 1.0473717</td><td>-1.2402259</td></tr>\n",
       "\t<tr><th scope=row>4</th><td> 1.166491850</td><td>-0.6025551</td><td> 0.2195556</td><td> 0.1435758</td><td> 0.1700888</td><td> 1.4984011</td><td> 0.96469378</td><td> 2.5062060</td><td> 0.84309070</td><td>-0.3804716</td><td> 0.3748146</td></tr>\n",
       "\t<tr><th scope=row>5</th><td>-1.048299099</td><td> 0.1335362</td><td> 1.1482252</td><td> 0.6305707</td><td>-0.2958468</td><td>-1.1228392</td><td>-1.56732163</td><td>-0.2237386</td><td>-0.07384976</td><td> 0.8563595</td><td> 0.2030239</td></tr>\n",
       "\t<tr><th scope=row>6</th><td>-7.010889129</td><td>-1.0089412</td><td>-0.6133604</td><td>-2.4162544</td><td>-2.1024918</td><td>-1.1078100</td><td>-0.08249021</td><td>-1.0546264</td><td>-0.65516390</td><td>-1.3670825</td><td> 0.3066135</td></tr>\n",
       "</tbody>\n",
       "</table>\n"
      ],
      "text/latex": [
       "A data.frame: 6 × 11\n",
       "\\begin{tabular}{r|lllllllllll}\n",
       "  & Y & X1 & X2 & X3 & X4 & X5 & X6 & X7 & X8 & X9 & X10\\\\\n",
       "  & <dbl> & <dbl> & <dbl> & <dbl> & <dbl> & <dbl> & <dbl> & <dbl> & <dbl> & <dbl> & <dbl>\\\\\n",
       "\\hline\n",
       "\t1 &  3.104494411 &  0.3812724 &  0.1655085 &  1.0202853 &  0.5799850 &  0.8404607 &  0.28834650 &  0.3780697 &  0.31273187 &  1.1412918 &  0.4468788\\\\\n",
       "\t2 &  0.006126285 &  0.6167204 &  0.2686988 &  0.2619658 &  0.8981043 & -0.1682565 & -1.14249695 & -0.8203530 & -0.24201470 & -0.1913897 & -1.3175664\\\\\n",
       "\t3 & -5.116991072 & -0.8144163 & -0.9008645 & -1.9297572 & -1.0541327 & -1.1009114 & -0.96590490 &  0.2355541 &  0.55199905 &  1.0473717 & -1.2402259\\\\\n",
       "\t4 &  1.166491850 & -0.6025551 &  0.2195556 &  0.1435758 &  0.1700888 &  1.4984011 &  0.96469378 &  2.5062060 &  0.84309070 & -0.3804716 &  0.3748146\\\\\n",
       "\t5 & -1.048299099 &  0.1335362 &  1.1482252 &  0.6305707 & -0.2958468 & -1.1228392 & -1.56732163 & -0.2237386 & -0.07384976 &  0.8563595 &  0.2030239\\\\\n",
       "\t6 & -7.010889129 & -1.0089412 & -0.6133604 & -2.4162544 & -2.1024918 & -1.1078100 & -0.08249021 & -1.0546264 & -0.65516390 & -1.3670825 &  0.3066135\\\\\n",
       "\\end{tabular}\n"
      ],
      "text/markdown": [
       "\n",
       "A data.frame: 6 × 11\n",
       "\n",
       "| <!--/--> | Y &lt;dbl&gt; | X1 &lt;dbl&gt; | X2 &lt;dbl&gt; | X3 &lt;dbl&gt; | X4 &lt;dbl&gt; | X5 &lt;dbl&gt; | X6 &lt;dbl&gt; | X7 &lt;dbl&gt; | X8 &lt;dbl&gt; | X9 &lt;dbl&gt; | X10 &lt;dbl&gt; |\n",
       "|---|---|---|---|---|---|---|---|---|---|---|---|\n",
       "| 1 |  3.104494411 |  0.3812724 |  0.1655085 |  1.0202853 |  0.5799850 |  0.8404607 |  0.28834650 |  0.3780697 |  0.31273187 |  1.1412918 |  0.4468788 |\n",
       "| 2 |  0.006126285 |  0.6167204 |  0.2686988 |  0.2619658 |  0.8981043 | -0.1682565 | -1.14249695 | -0.8203530 | -0.24201470 | -0.1913897 | -1.3175664 |\n",
       "| 3 | -5.116991072 | -0.8144163 | -0.9008645 | -1.9297572 | -1.0541327 | -1.1009114 | -0.96590490 |  0.2355541 |  0.55199905 |  1.0473717 | -1.2402259 |\n",
       "| 4 |  1.166491850 | -0.6025551 |  0.2195556 |  0.1435758 |  0.1700888 |  1.4984011 |  0.96469378 |  2.5062060 |  0.84309070 | -0.3804716 |  0.3748146 |\n",
       "| 5 | -1.048299099 |  0.1335362 |  1.1482252 |  0.6305707 | -0.2958468 | -1.1228392 | -1.56732163 | -0.2237386 | -0.07384976 |  0.8563595 |  0.2030239 |\n",
       "| 6 | -7.010889129 | -1.0089412 | -0.6133604 | -2.4162544 | -2.1024918 | -1.1078100 | -0.08249021 | -1.0546264 | -0.65516390 | -1.3670825 |  0.3066135 |\n",
       "\n"
      ],
      "text/plain": [
       "  Y            X1         X2         X3         X4         X5        \n",
       "1  3.104494411  0.3812724  0.1655085  1.0202853  0.5799850  0.8404607\n",
       "2  0.006126285  0.6167204  0.2686988  0.2619658  0.8981043 -0.1682565\n",
       "3 -5.116991072 -0.8144163 -0.9008645 -1.9297572 -1.0541327 -1.1009114\n",
       "4  1.166491850 -0.6025551  0.2195556  0.1435758  0.1700888  1.4984011\n",
       "5 -1.048299099  0.1335362  1.1482252  0.6305707 -0.2958468 -1.1228392\n",
       "6 -7.010889129 -1.0089412 -0.6133604 -2.4162544 -2.1024918 -1.1078100\n",
       "  X6          X7         X8          X9         X10       \n",
       "1  0.28834650  0.3780697  0.31273187  1.1412918  0.4468788\n",
       "2 -1.14249695 -0.8203530 -0.24201470 -0.1913897 -1.3175664\n",
       "3 -0.96590490  0.2355541  0.55199905  1.0473717 -1.2402259\n",
       "4  0.96469378  2.5062060  0.84309070 -0.3804716  0.3748146\n",
       "5 -1.56732163 -0.2237386 -0.07384976  0.8563595  0.2030239\n",
       "6 -0.08249021 -1.0546264 -0.65516390 -1.3670825  0.3066135"
      ]
     },
     "metadata": {},
     "output_type": "display_data"
    }
   ],
   "source": [
    "beta = beta_1(10,5)\n",
    "df <- simulate(n=100, p=10, rho=0.5, beta=beta, SNR = 1)$df\n",
    "head(df)"
   ]
  },
  {
   "cell_type": "code",
   "execution_count": 54,
   "id": "582a6ae8",
   "metadata": {},
   "outputs": [
    {
     "data": {
      "text/html": [
       "2.00361721198457"
      ],
      "text/latex": [
       "2.00361721198457"
      ],
      "text/markdown": [
       "2.00361721198457"
      ],
      "text/plain": [
       "[1] 2.003617"
      ]
     },
     "metadata": {},
     "output_type": "display_data"
    }
   ],
   "source": [
    "beta = beta_1(10,5)\n",
    "container = matrix(NaN, ncol=1)\n",
    "for ( i in 1:1000){\n",
    "  df <- simulate(n=100, p=10, rho=0.9, beta=beta, SNR = 2)\n",
    "    X = df$df[,-1]\n",
    "    a = data.matrix(X) %*% beta\n",
    "    var_y = var(df$df[,1])\n",
    "    container[i] = var(a)/(df$sigma**2)\n",
    "    #container[i] = var(a)/sqrt(var_y)\n",
    "}\n",
    "mean(container)"
   ]
  },
  {
   "cell_type": "markdown",
   "id": "ddc22e1c",
   "metadata": {},
   "source": [
    "### 3.2 Case 1 - Baseline"
   ]
  },
  {
   "cell_type": "markdown",
   "id": "afc34653",
   "metadata": {},
   "source": [
    "Looking at the case without special collinearity between the significant coefficients."
   ]
  },
  {
   "cell_type": "code",
   "execution_count": null,
   "id": "c1c116e5",
   "metadata": {},
   "outputs": [],
   "source": []
  },
  {
   "cell_type": "markdown",
   "id": "13b9a418",
   "metadata": {},
   "source": [
    "---\n",
    "## 3. Application\n",
    "---"
   ]
  },
  {
   "cell_type": "markdown",
   "id": "de40aaa2",
   "metadata": {},
   "source": [
    "---\n",
    "# Reference Section\n",
    "---\n",
    "* Belloni et al 2011"
   ]
  }
 ],
 "metadata": {
  "interpreter": {
   "hash": "b1be2b7f3f1894d6d8c8af9ec3a4f1d7c1309b90ba0dd6b5bed9a14371c4a4ae"
  },
  "kernelspec": {
   "display_name": "R",
   "language": "R",
   "name": "ir"
  },
  "language_info": {
   "codemirror_mode": "r",
   "file_extension": ".r",
   "mimetype": "text/x-r-source",
   "name": "R",
   "pygments_lexer": "r",
   "version": "4.1.0"
  }
 },
 "nbformat": 4,
 "nbformat_minor": 5
}
